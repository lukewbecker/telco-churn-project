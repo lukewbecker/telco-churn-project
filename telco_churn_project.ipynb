{
 "cells": [
  {
   "cell_type": "markdown",
   "metadata": {},
   "source": [
    "# Telco Churn Project\n",
    "\n",
    "\n"
   ]
  },
  {
   "cell_type": "markdown",
   "metadata": {},
   "source": [
    "## Why are our customers churning?\n",
    "### Look for any groupings (if any) that indicate a customer is more likely to churn."
   ]
  },
  {
   "cell_type": "code",
   "execution_count": 1,
   "metadata": {},
   "outputs": [],
   "source": [
    "import pandas as pd\n",
    "import numpy as np\n",
    "from math import sqrt\n",
    "from scipy import stats\n",
    "\n",
    "# visualizing\n",
    "import seaborn as sns\n",
    "import matplotlib.pyplot as plt\n",
    "%matplotlib inline\n",
    "\n",
    "plt.rc('figure', figsize=(13, 10))\n",
    "plt.rc('font', size=14)\n",
    "\n",
    "# preparing\n",
    "from sklearn.model_selection import train_test_split\n",
    "from sklearn.preprocessing import LabelEncoder\n",
    "from sklearn.preprocessing import MinMaxScaler\n",
    "from sklearn.impute import SimpleImputer\n",
    "from sklearn.preprocessing import OneHotEncoder\n",
    "\n",
    "# modeling and evaluating\n",
    "from sklearn.linear_model import LogisticRegression\n",
    "from sklearn.metrics import classification_report, confusion_matrix, precision_score, recall_score, accuracy_score\n",
    "from sklearn.metrics import confusion_matrix\n",
    "\n",
    "# turn off warnings\n",
    "import warnings\n",
    "warnings.filterwarnings(\"ignore\")\n",
    "\n",
    "# acquiring\n",
    "# from explore import anatomy_of_a_figure\n",
    "from env import host, user, password\n",
    "from pydataset import data"
   ]
  },
  {
   "cell_type": "code",
   "execution_count": 2,
   "metadata": {},
   "outputs": [
    {
     "name": "stdout",
     "output_type": "stream",
     "text": [
      "End of file.\n"
     ]
    }
   ],
   "source": [
    "from acquire import get_db\n",
    "from acquire import get_telco_data\n",
    "from prepare import prep_telco_data\n",
    "from prepare import prep_telco_data_all"
   ]
  },
  {
   "cell_type": "code",
   "execution_count": 3,
   "metadata": {},
   "outputs": [],
   "source": [
    "telco = get_telco_data()"
   ]
  },
  {
   "cell_type": "code",
   "execution_count": 103,
   "metadata": {},
   "outputs": [
    {
     "name": "stdout",
     "output_type": "stream",
     "text": [
      "(7043, 24)\n",
      "<class 'pandas.core.frame.DataFrame'>\n",
      "RangeIndex: 7043 entries, 0 to 7042\n",
      "Data columns (total 24 columns):\n",
      " #   Column                    Non-Null Count  Dtype  \n",
      "---  ------                    --------------  -----  \n",
      " 0   customer_id               7043 non-null   object \n",
      " 1   gender                    7043 non-null   object \n",
      " 2   senior_citizen            7043 non-null   int64  \n",
      " 3   partner                   7043 non-null   object \n",
      " 4   dependents                7043 non-null   object \n",
      " 5   tenure                    7043 non-null   int64  \n",
      " 6   phone_service             7043 non-null   object \n",
      " 7   multiple_lines            7043 non-null   object \n",
      " 8   internet_service_type_id  7043 non-null   int64  \n",
      " 9   online_security           7043 non-null   object \n",
      " 10  online_backup             7043 non-null   object \n",
      " 11  device_protection         7043 non-null   object \n",
      " 12  tech_support              7043 non-null   object \n",
      " 13  streaming_tv              7043 non-null   object \n",
      " 14  streaming_movies          7043 non-null   object \n",
      " 15  contract_type_id          7043 non-null   int64  \n",
      " 16  paperless_billing         7043 non-null   object \n",
      " 17  payment_type_id           7043 non-null   int64  \n",
      " 18  monthly_charges           7043 non-null   float64\n",
      " 19  total_charges             7043 non-null   object \n",
      " 20  churn                     7043 non-null   object \n",
      " 21  payment_type              7043 non-null   object \n",
      " 22  internet_service_type     7043 non-null   object \n",
      " 23  contract_type             7043 non-null   object \n",
      "dtypes: float64(1), int64(5), object(18)\n",
      "memory usage: 1.3+ MB\n",
      "None\n"
     ]
    }
   ],
   "source": [
    "# Summarizing the dataframe:\n",
    "\n",
    "print(telco.shape)\n",
    "print(telco.info())"
   ]
  },
  {
   "cell_type": "code",
   "execution_count": 7,
   "metadata": {},
   "outputs": [
    {
     "data": {
      "text/html": [
       "<div>\n",
       "<style scoped>\n",
       "    .dataframe tbody tr th:only-of-type {\n",
       "        vertical-align: middle;\n",
       "    }\n",
       "\n",
       "    .dataframe tbody tr th {\n",
       "        vertical-align: top;\n",
       "    }\n",
       "\n",
       "    .dataframe thead th {\n",
       "        text-align: right;\n",
       "    }\n",
       "</style>\n",
       "<table border=\"1\" class=\"dataframe\">\n",
       "  <thead>\n",
       "    <tr style=\"text-align: right;\">\n",
       "      <th></th>\n",
       "      <th>senior_citizen</th>\n",
       "      <th>tenure</th>\n",
       "      <th>internet_service_type_id</th>\n",
       "      <th>contract_type_id</th>\n",
       "      <th>payment_type_id</th>\n",
       "      <th>monthly_charges</th>\n",
       "    </tr>\n",
       "  </thead>\n",
       "  <tbody>\n",
       "    <tr>\n",
       "      <th>count</th>\n",
       "      <td>7043.000000</td>\n",
       "      <td>7043.000000</td>\n",
       "      <td>7043.000000</td>\n",
       "      <td>7043.000000</td>\n",
       "      <td>7043.000000</td>\n",
       "      <td>7043.000000</td>\n",
       "    </tr>\n",
       "    <tr>\n",
       "      <th>mean</th>\n",
       "      <td>0.162147</td>\n",
       "      <td>32.371149</td>\n",
       "      <td>1.872923</td>\n",
       "      <td>1.690473</td>\n",
       "      <td>2.315633</td>\n",
       "      <td>64.761692</td>\n",
       "    </tr>\n",
       "    <tr>\n",
       "      <th>std</th>\n",
       "      <td>0.368612</td>\n",
       "      <td>24.559481</td>\n",
       "      <td>0.737796</td>\n",
       "      <td>0.833755</td>\n",
       "      <td>1.148907</td>\n",
       "      <td>30.090047</td>\n",
       "    </tr>\n",
       "    <tr>\n",
       "      <th>min</th>\n",
       "      <td>0.000000</td>\n",
       "      <td>0.000000</td>\n",
       "      <td>1.000000</td>\n",
       "      <td>1.000000</td>\n",
       "      <td>1.000000</td>\n",
       "      <td>18.250000</td>\n",
       "    </tr>\n",
       "    <tr>\n",
       "      <th>25%</th>\n",
       "      <td>0.000000</td>\n",
       "      <td>9.000000</td>\n",
       "      <td>1.000000</td>\n",
       "      <td>1.000000</td>\n",
       "      <td>1.000000</td>\n",
       "      <td>35.500000</td>\n",
       "    </tr>\n",
       "    <tr>\n",
       "      <th>50%</th>\n",
       "      <td>0.000000</td>\n",
       "      <td>29.000000</td>\n",
       "      <td>2.000000</td>\n",
       "      <td>1.000000</td>\n",
       "      <td>2.000000</td>\n",
       "      <td>70.350000</td>\n",
       "    </tr>\n",
       "    <tr>\n",
       "      <th>75%</th>\n",
       "      <td>0.000000</td>\n",
       "      <td>55.000000</td>\n",
       "      <td>2.000000</td>\n",
       "      <td>2.000000</td>\n",
       "      <td>3.000000</td>\n",
       "      <td>89.850000</td>\n",
       "    </tr>\n",
       "    <tr>\n",
       "      <th>max</th>\n",
       "      <td>1.000000</td>\n",
       "      <td>72.000000</td>\n",
       "      <td>3.000000</td>\n",
       "      <td>3.000000</td>\n",
       "      <td>4.000000</td>\n",
       "      <td>118.750000</td>\n",
       "    </tr>\n",
       "  </tbody>\n",
       "</table>\n",
       "</div>"
      ],
      "text/plain": [
       "       senior_citizen       tenure  internet_service_type_id  \\\n",
       "count     7043.000000  7043.000000               7043.000000   \n",
       "mean         0.162147    32.371149                  1.872923   \n",
       "std          0.368612    24.559481                  0.737796   \n",
       "min          0.000000     0.000000                  1.000000   \n",
       "25%          0.000000     9.000000                  1.000000   \n",
       "50%          0.000000    29.000000                  2.000000   \n",
       "75%          0.000000    55.000000                  2.000000   \n",
       "max          1.000000    72.000000                  3.000000   \n",
       "\n",
       "       contract_type_id  payment_type_id  monthly_charges  \n",
       "count       7043.000000      7043.000000      7043.000000  \n",
       "mean           1.690473         2.315633        64.761692  \n",
       "std            0.833755         1.148907        30.090047  \n",
       "min            1.000000         1.000000        18.250000  \n",
       "25%            1.000000         1.000000        35.500000  \n",
       "50%            1.000000         2.000000        70.350000  \n",
       "75%            2.000000         3.000000        89.850000  \n",
       "max            3.000000         4.000000       118.750000  "
      ]
     },
     "execution_count": 7,
     "metadata": {},
     "output_type": "execute_result"
    }
   ],
   "source": [
    "# .describe gives summary data stats of the dataframe. Note that many of the categorical variables we want to test, such as payment type, have not yet been prepped so they aren't showing up.\n",
    "\n",
    "telco.describe()"
   ]
  },
  {
   "cell_type": "code",
   "execution_count": 8,
   "metadata": {},
   "outputs": [
    {
     "data": {
      "text/plain": [
       "24"
      ]
     },
     "execution_count": 8,
     "metadata": {},
     "output_type": "execute_result"
    }
   ],
   "source": [
    "len(telco.columns)\n",
    "\n",
    "# There are currently 24 total columns in the dataframe, before prepping (and potentially adding more columns)."
   ]
  },
  {
   "cell_type": "code",
   "execution_count": 9,
   "metadata": {},
   "outputs": [
    {
     "data": {
      "text/plain": [
       "No     0.73463\n",
       "Yes    0.26537\n",
       "Name: churn, dtype: float64"
      ]
     },
     "execution_count": 9,
     "metadata": {},
     "output_type": "execute_result"
    }
   ],
   "source": [
    "# Using value_counts() and the normalize argument within the function to find the overall churn rate across all variables.\n",
    "\n",
    "telco.churn.value_counts(normalize=True)"
   ]
  },
  {
   "cell_type": "code",
   "execution_count": 10,
   "metadata": {},
   "outputs": [],
   "source": [
    "# Pandas wasn't showing all the columns in the dataframe, so I expanded the number of default columns Pandas would display.\n",
    "# Exocortext: https://www.mikulskibartosz.name/how-to-display-all-columns-of-a-pandas-dataframe-in-jupyter-notebook/\n",
    "\n",
    "pd.set_option('display.max_columns', 999)"
   ]
  },
  {
   "cell_type": "markdown",
   "metadata": {},
   "source": [
    "# Prepare Data"
   ]
  },
  {
   "cell_type": "markdown",
   "metadata": {},
   "source": [
    "#### Columns that I need to change to numerical:\n",
    "- Gender --> new column \"is_female\" Female = 1, Male = 0\n",
    "- online_security thru streaming_movies needs to be turned into a column of discreet variables.\n",
    "- churn needs to be turned into a discreet variable column. Not churned = 0, churned = 1\n",
    "- partner and dependents need to become discreet if I use them. "
   ]
  },
  {
   "cell_type": "code",
   "execution_count": 11,
   "metadata": {},
   "outputs": [
    {
     "data": {
      "text/plain": [
       "<matplotlib.axes._subplots.AxesSubplot at 0x7f951176f590>"
      ]
     },
     "execution_count": 11,
     "metadata": {},
     "output_type": "execute_result"
    },
    {
     "data": {
      "image/png": "[encoded data removed]",
      "text/plain": [
       "<Figure size 936x720 with 1 Axes>"
      ]
     },
     "metadata": {
      "needs_background": "light"
     },
     "output_type": "display_data"
    }
   ],
   "source": [
    "# A quick visualization technique using a heatmap shows there are no missing values in the columns. Meaning we have fairly clean data.\n",
    "\n",
    "sns.heatmap(telco.isnull(), yticklabels = False, cbar = False, cmap = 'Blues')"
   ]
  },
  {
   "cell_type": "code",
   "execution_count": 12,
   "metadata": {},
   "outputs": [
    {
     "data": {
      "text/plain": [
       "customer_id                 0\n",
       "gender                      0\n",
       "senior_citizen              0\n",
       "partner                     0\n",
       "dependents                  0\n",
       "tenure                      0\n",
       "phone_service               0\n",
       "multiple_lines              0\n",
       "internet_service_type_id    0\n",
       "online_security             0\n",
       "online_backup               0\n",
       "device_protection           0\n",
       "tech_support                0\n",
       "streaming_tv                0\n",
       "streaming_movies            0\n",
       "contract_type_id            0\n",
       "paperless_billing           0\n",
       "payment_type_id             0\n",
       "monthly_charges             0\n",
       "total_charges               0\n",
       "churn                       0\n",
       "payment_type                0\n",
       "internet_service_type       0\n",
       "contract_type               0\n",
       "dtype: int64"
      ]
     },
     "execution_count": 12,
     "metadata": {},
     "output_type": "execute_result"
    }
   ],
   "source": [
    "# Further confirmation there are no missing values that need to be imputed.\n",
    "\n",
    "telco.isna().sum()"
   ]
  },
  {
   "cell_type": "code",
   "execution_count": 13,
   "metadata": {},
   "outputs": [],
   "source": [
    "# However, some of these value may need to be normalized/stratified depending on which columns I'll need to use."
   ]
  },
  {
   "cell_type": "markdown",
   "metadata": {},
   "source": [
    "### Last step: get my split my data from my prepare.py file:"
   ]
  },
  {
   "cell_type": "code",
   "execution_count": 15,
   "metadata": {},
   "outputs": [],
   "source": [
    "train, validate, test = prep_telco_data(get_telco_data())"
   ]
  },
  {
   "cell_type": "code",
   "execution_count": 16,
   "metadata": {},
   "outputs": [
    {
     "data": {
      "text/html": [
       "<div>\n",
       "<style scoped>\n",
       "    .dataframe tbody tr th:only-of-type {\n",
       "        vertical-align: middle;\n",
       "    }\n",
       "\n",
       "    .dataframe tbody tr th {\n",
       "        vertical-align: top;\n",
       "    }\n",
       "\n",
       "    .dataframe thead th {\n",
       "        text-align: right;\n",
       "    }\n",
       "</style>\n",
       "<table border=\"1\" class=\"dataframe\">\n",
       "  <thead>\n",
       "    <tr style=\"text-align: right;\">\n",
       "      <th></th>\n",
       "      <th>customer_id</th>\n",
       "      <th>gender</th>\n",
       "      <th>senior_citizen</th>\n",
       "      <th>partner</th>\n",
       "      <th>dependents</th>\n",
       "      <th>tenure</th>\n",
       "      <th>phone_service</th>\n",
       "      <th>multiple_lines</th>\n",
       "      <th>internet_service_type_id</th>\n",
       "      <th>online_security</th>\n",
       "      <th>online_backup</th>\n",
       "      <th>device_protection</th>\n",
       "      <th>tech_support</th>\n",
       "      <th>streaming_tv</th>\n",
       "      <th>streaming_movies</th>\n",
       "      <th>contract_type_id</th>\n",
       "      <th>paperless_billing</th>\n",
       "      <th>payment_type_id</th>\n",
       "      <th>monthly_charges</th>\n",
       "      <th>total_charges</th>\n",
       "      <th>churn</th>\n",
       "      <th>payment_type</th>\n",
       "      <th>internet_service_type</th>\n",
       "      <th>contract_type</th>\n",
       "      <th>month_to_month</th>\n",
       "      <th>one_year</th>\n",
       "      <th>two_year</th>\n",
       "      <th>dsl_internet</th>\n",
       "      <th>fiber_internet</th>\n",
       "      <th>no_internet</th>\n",
       "      <th>is_female</th>\n",
       "      <th>is_automatic</th>\n",
       "      <th>churned</th>\n",
       "    </tr>\n",
       "  </thead>\n",
       "  <tbody>\n",
       "    <tr>\n",
       "      <th>5710</th>\n",
       "      <td>6013-BHCAW</td>\n",
       "      <td>Male</td>\n",
       "      <td>0</td>\n",
       "      <td>1</td>\n",
       "      <td>1</td>\n",
       "      <td>61</td>\n",
       "      <td>1</td>\n",
       "      <td>1</td>\n",
       "      <td>1</td>\n",
       "      <td>0</td>\n",
       "      <td>0</td>\n",
       "      <td>1</td>\n",
       "      <td>1</td>\n",
       "      <td>1</td>\n",
       "      <td>0</td>\n",
       "      <td>3</td>\n",
       "      <td>1</td>\n",
       "      <td>3</td>\n",
       "      <td>81.00</td>\n",
       "      <td>4976.15</td>\n",
       "      <td>No</td>\n",
       "      <td>Bank transfer (automatic)</td>\n",
       "      <td>DSL</td>\n",
       "      <td>Two year</td>\n",
       "      <td>0</td>\n",
       "      <td>0</td>\n",
       "      <td>1</td>\n",
       "      <td>1</td>\n",
       "      <td>0</td>\n",
       "      <td>0</td>\n",
       "      <td>0</td>\n",
       "      <td>1</td>\n",
       "      <td>0</td>\n",
       "    </tr>\n",
       "    <tr>\n",
       "      <th>4465</th>\n",
       "      <td>0409-WTMPL</td>\n",
       "      <td>Female</td>\n",
       "      <td>0</td>\n",
       "      <td>1</td>\n",
       "      <td>0</td>\n",
       "      <td>58</td>\n",
       "      <td>1</td>\n",
       "      <td>1</td>\n",
       "      <td>2</td>\n",
       "      <td>1</td>\n",
       "      <td>1</td>\n",
       "      <td>1</td>\n",
       "      <td>0</td>\n",
       "      <td>1</td>\n",
       "      <td>0</td>\n",
       "      <td>2</td>\n",
       "      <td>1</td>\n",
       "      <td>4</td>\n",
       "      <td>110.65</td>\n",
       "      <td>6526.65</td>\n",
       "      <td>No</td>\n",
       "      <td>Credit card (automatic)</td>\n",
       "      <td>Fiber optic</td>\n",
       "      <td>One year</td>\n",
       "      <td>0</td>\n",
       "      <td>1</td>\n",
       "      <td>0</td>\n",
       "      <td>0</td>\n",
       "      <td>1</td>\n",
       "      <td>0</td>\n",
       "      <td>1</td>\n",
       "      <td>1</td>\n",
       "      <td>0</td>\n",
       "    </tr>\n",
       "    <tr>\n",
       "      <th>5017</th>\n",
       "      <td>1085-LDWAM</td>\n",
       "      <td>Female</td>\n",
       "      <td>0</td>\n",
       "      <td>1</td>\n",
       "      <td>1</td>\n",
       "      <td>69</td>\n",
       "      <td>1</td>\n",
       "      <td>0</td>\n",
       "      <td>3</td>\n",
       "      <td>0</td>\n",
       "      <td>0</td>\n",
       "      <td>0</td>\n",
       "      <td>0</td>\n",
       "      <td>0</td>\n",
       "      <td>0</td>\n",
       "      <td>2</td>\n",
       "      <td>1</td>\n",
       "      <td>4</td>\n",
       "      <td>20.35</td>\n",
       "      <td>1442.65</td>\n",
       "      <td>No</td>\n",
       "      <td>Credit card (automatic)</td>\n",
       "      <td>None</td>\n",
       "      <td>One year</td>\n",
       "      <td>0</td>\n",
       "      <td>1</td>\n",
       "      <td>0</td>\n",
       "      <td>0</td>\n",
       "      <td>0</td>\n",
       "      <td>1</td>\n",
       "      <td>1</td>\n",
       "      <td>1</td>\n",
       "      <td>0</td>\n",
       "    </tr>\n",
       "    <tr>\n",
       "      <th>3521</th>\n",
       "      <td>3039-MJSLN</td>\n",
       "      <td>Male</td>\n",
       "      <td>0</td>\n",
       "      <td>0</td>\n",
       "      <td>1</td>\n",
       "      <td>3</td>\n",
       "      <td>1</td>\n",
       "      <td>0</td>\n",
       "      <td>3</td>\n",
       "      <td>0</td>\n",
       "      <td>0</td>\n",
       "      <td>0</td>\n",
       "      <td>0</td>\n",
       "      <td>0</td>\n",
       "      <td>0</td>\n",
       "      <td>1</td>\n",
       "      <td>0</td>\n",
       "      <td>3</td>\n",
       "      <td>20.20</td>\n",
       "      <td>50.60</td>\n",
       "      <td>No</td>\n",
       "      <td>Bank transfer (automatic)</td>\n",
       "      <td>None</td>\n",
       "      <td>Month-to-month</td>\n",
       "      <td>1</td>\n",
       "      <td>0</td>\n",
       "      <td>0</td>\n",
       "      <td>0</td>\n",
       "      <td>0</td>\n",
       "      <td>1</td>\n",
       "      <td>0</td>\n",
       "      <td>1</td>\n",
       "      <td>0</td>\n",
       "    </tr>\n",
       "    <tr>\n",
       "      <th>3828</th>\n",
       "      <td>9046-JBFWA</td>\n",
       "      <td>Male</td>\n",
       "      <td>0</td>\n",
       "      <td>0</td>\n",
       "      <td>1</td>\n",
       "      <td>27</td>\n",
       "      <td>1</td>\n",
       "      <td>0</td>\n",
       "      <td>3</td>\n",
       "      <td>0</td>\n",
       "      <td>0</td>\n",
       "      <td>0</td>\n",
       "      <td>0</td>\n",
       "      <td>0</td>\n",
       "      <td>0</td>\n",
       "      <td>1</td>\n",
       "      <td>0</td>\n",
       "      <td>2</td>\n",
       "      <td>19.15</td>\n",
       "      <td>537.35</td>\n",
       "      <td>No</td>\n",
       "      <td>Mailed check</td>\n",
       "      <td>None</td>\n",
       "      <td>Month-to-month</td>\n",
       "      <td>1</td>\n",
       "      <td>0</td>\n",
       "      <td>0</td>\n",
       "      <td>0</td>\n",
       "      <td>0</td>\n",
       "      <td>1</td>\n",
       "      <td>0</td>\n",
       "      <td>0</td>\n",
       "      <td>0</td>\n",
       "    </tr>\n",
       "  </tbody>\n",
       "</table>\n",
       "</div>"
      ],
      "text/plain": [
       "     customer_id  gender  senior_citizen  partner  dependents  tenure  \\\n",
       "5710  6013-BHCAW    Male               0        1           1      61   \n",
       "4465  0409-WTMPL  Female               0        1           0      58   \n",
       "5017  1085-LDWAM  Female               0        1           1      69   \n",
       "3521  3039-MJSLN    Male               0        0           1       3   \n",
       "3828  9046-JBFWA    Male               0        0           1      27   \n",
       "\n",
       "      phone_service  multiple_lines  internet_service_type_id  \\\n",
       "5710              1               1                         1   \n",
       "4465              1               1                         2   \n",
       "5017              1               0                         3   \n",
       "3521              1               0                         3   \n",
       "3828              1               0                         3   \n",
       "\n",
       "      online_security  online_backup  device_protection  tech_support  \\\n",
       "5710                0              0                  1             1   \n",
       "4465                1              1                  1             0   \n",
       "5017                0              0                  0             0   \n",
       "3521                0              0                  0             0   \n",
       "3828                0              0                  0             0   \n",
       "\n",
       "      streaming_tv  streaming_movies  contract_type_id  paperless_billing  \\\n",
       "5710             1                 0                 3                  1   \n",
       "4465             1                 0                 2                  1   \n",
       "5017             0                 0                 2                  1   \n",
       "3521             0                 0                 1                  0   \n",
       "3828             0                 0                 1                  0   \n",
       "\n",
       "      payment_type_id  monthly_charges  total_charges churn  \\\n",
       "5710                3            81.00        4976.15    No   \n",
       "4465                4           110.65        6526.65    No   \n",
       "5017                4            20.35        1442.65    No   \n",
       "3521                3            20.20          50.60    No   \n",
       "3828                2            19.15         537.35    No   \n",
       "\n",
       "                   payment_type internet_service_type   contract_type  \\\n",
       "5710  Bank transfer (automatic)                   DSL        Two year   \n",
       "4465    Credit card (automatic)           Fiber optic        One year   \n",
       "5017    Credit card (automatic)                  None        One year   \n",
       "3521  Bank transfer (automatic)                  None  Month-to-month   \n",
       "3828               Mailed check                  None  Month-to-month   \n",
       "\n",
       "      month_to_month  one_year  two_year  dsl_internet  fiber_internet  \\\n",
       "5710               0         0         1             1               0   \n",
       "4465               0         1         0             0               1   \n",
       "5017               0         1         0             0               0   \n",
       "3521               1         0         0             0               0   \n",
       "3828               1         0         0             0               0   \n",
       "\n",
       "      no_internet  is_female  is_automatic  churned  \n",
       "5710            0          0             1        0  \n",
       "4465            0          1             1        0  \n",
       "5017            1          1             1        0  \n",
       "3521            1          0             1        0  \n",
       "3828            1          0             0        0  "
      ]
     },
     "execution_count": 16,
     "metadata": {},
     "output_type": "execute_result"
    }
   ],
   "source": [
    "train.head()"
   ]
  },
  {
   "cell_type": "markdown",
   "metadata": {},
   "source": [
    "# Exploratory Phase"
   ]
  },
  {
   "cell_type": "markdown",
   "metadata": {},
   "source": [
    "#### Goals of Explore phase:\n",
    "- Answer the key questions\n",
    "- Answer hypotheses\n",
    "- Determine drivers of churn\n",
    "- Set the baseline model\n",
    "\n"
   ]
  },
  {
   "cell_type": "markdown",
   "metadata": {},
   "source": [
    "#### Goal is to find drivers of churn, and I will need to establish a baseline against which to compare my models.\n",
    "A simple way to do this is to create a baseline model that simply picks the most commonly occuring observation every time."
   ]
  },
  {
   "cell_type": "code",
   "execution_count": 17,
   "metadata": {},
   "outputs": [
    {
     "data": {
      "text/plain": [
       "No     0.73472\n",
       "Yes    0.26528\n",
       "Name: churn, dtype: float64"
      ]
     },
     "execution_count": 17,
     "metadata": {},
     "output_type": "execute_result"
    }
   ],
   "source": [
    "# Baseline question: Did a customer churn? Simple find the %s of customers that churned or didn't churn.\n",
    "\n",
    "# Overall churn across all tenures and customers:\n",
    "train.churn.value_counts(normalize = True)"
   ]
  },
  {
   "cell_type": "code",
   "execution_count": 18,
   "metadata": {},
   "outputs": [
    {
     "data": {
      "text/plain": [
       "No     0.533552\n",
       "Yes    0.466448\n",
       "Name: churn, dtype: float64"
      ]
     },
     "execution_count": 18,
     "metadata": {},
     "output_type": "execute_result"
    }
   ],
   "source": [
    "# Exploring churn rates by tenure. Dividing by year:\n",
    "\n",
    "# Creating a separate dataframe from my train dataset for taking a look at number of tenure years:\n",
    "df_explore = train\n",
    "df_explore['t_yrs'] = round(df_explore.tenure / 12, 2)\n",
    "\n",
    "# Chohort of 1 year of tenure:\n",
    "year_one = df_explore.t_yrs <=1\n",
    "year_test = df_explore[year_one]\n",
    "year_test.churn.value_counts(normalize = True)"
   ]
  },
  {
   "cell_type": "code",
   "execution_count": 19,
   "metadata": {},
   "outputs": [
    {
     "data": {
      "text/plain": [
       "No     0.724541\n",
       "Yes    0.275459\n",
       "Name: churn, dtype: float64"
      ]
     },
     "execution_count": 19,
     "metadata": {},
     "output_type": "execute_result"
    }
   ],
   "source": [
    "# Chohort of 2 years of tenure:\n",
    "year_two = (df_explore.t_yrs >1) & (df_explore.t_yrs <=2)\n",
    "year_test = df_explore[year_two]\n",
    "year_test.churn.value_counts(normalize = True)"
   ]
  },
  {
   "cell_type": "code",
   "execution_count": 20,
   "metadata": {},
   "outputs": [
    {
     "data": {
      "text/plain": [
       "No     0.755889\n",
       "Yes    0.244111\n",
       "Name: churn, dtype: float64"
      ]
     },
     "execution_count": 20,
     "metadata": {},
     "output_type": "execute_result"
    }
   ],
   "source": [
    "# Chohort of 3 years of tenure:\n",
    "year_three = (df_explore.t_yrs >2) & (df_explore.t_yrs <=3)\n",
    "year_test = df_explore[year_three]\n",
    "year_test.churn.value_counts(normalize = True)"
   ]
  },
  {
   "cell_type": "code",
   "execution_count": 21,
   "metadata": {},
   "outputs": [
    {
     "data": {
      "text/plain": [
       "No     0.880967\n",
       "Yes    0.119033\n",
       "Name: churn, dtype: float64"
      ]
     },
     "execution_count": 21,
     "metadata": {},
     "output_type": "execute_result"
    }
   ],
   "source": [
    "# Chohort of greater than 3 years of tenure:\n",
    "year_three = (df_explore.t_yrs >3)\n",
    "year_test = df_explore[year_three]\n",
    "year_test.churn.value_counts(normalize = True)"
   ]
  },
  {
   "cell_type": "markdown",
   "metadata": {},
   "source": [
    "#### Takeaways:\n",
    "- It appears that as tenure increases, churn decreases.\n",
    "- Highest amount of churn is in the 1 year or less tenure, which makes sense since most of the churn is occuring in the month to month contract types."
   ]
  },
  {
   "cell_type": "code",
   "execution_count": 22,
   "metadata": {},
   "outputs": [
    {
     "data": {
      "text/html": [
       "<div>\n",
       "<style scoped>\n",
       "    .dataframe tbody tr th:only-of-type {\n",
       "        vertical-align: middle;\n",
       "    }\n",
       "\n",
       "    .dataframe tbody tr th {\n",
       "        vertical-align: top;\n",
       "    }\n",
       "\n",
       "    .dataframe thead th {\n",
       "        text-align: right;\n",
       "    }\n",
       "</style>\n",
       "<table border=\"1\" class=\"dataframe\">\n",
       "  <thead>\n",
       "    <tr style=\"text-align: right;\">\n",
       "      <th></th>\n",
       "      <th>customer_id</th>\n",
       "      <th>gender</th>\n",
       "      <th>senior_citizen</th>\n",
       "      <th>partner</th>\n",
       "      <th>dependents</th>\n",
       "      <th>tenure</th>\n",
       "      <th>phone_service</th>\n",
       "      <th>multiple_lines</th>\n",
       "      <th>internet_service_type_id</th>\n",
       "      <th>online_security</th>\n",
       "      <th>online_backup</th>\n",
       "      <th>device_protection</th>\n",
       "      <th>tech_support</th>\n",
       "      <th>streaming_tv</th>\n",
       "      <th>streaming_movies</th>\n",
       "      <th>contract_type_id</th>\n",
       "      <th>paperless_billing</th>\n",
       "      <th>payment_type_id</th>\n",
       "      <th>monthly_charges</th>\n",
       "      <th>total_charges</th>\n",
       "      <th>churn</th>\n",
       "      <th>payment_type</th>\n",
       "      <th>internet_service_type</th>\n",
       "      <th>contract_type</th>\n",
       "      <th>month_to_month</th>\n",
       "      <th>one_year</th>\n",
       "      <th>two_year</th>\n",
       "      <th>dsl_internet</th>\n",
       "      <th>fiber_internet</th>\n",
       "      <th>no_internet</th>\n",
       "      <th>is_female</th>\n",
       "      <th>is_automatic</th>\n",
       "      <th>churned</th>\n",
       "      <th>t_yrs</th>\n",
       "    </tr>\n",
       "  </thead>\n",
       "  <tbody>\n",
       "    <tr>\n",
       "      <th>5710</th>\n",
       "      <td>6013-BHCAW</td>\n",
       "      <td>Male</td>\n",
       "      <td>0</td>\n",
       "      <td>1</td>\n",
       "      <td>1</td>\n",
       "      <td>61</td>\n",
       "      <td>1</td>\n",
       "      <td>1</td>\n",
       "      <td>1</td>\n",
       "      <td>0</td>\n",
       "      <td>0</td>\n",
       "      <td>1</td>\n",
       "      <td>1</td>\n",
       "      <td>1</td>\n",
       "      <td>0</td>\n",
       "      <td>3</td>\n",
       "      <td>1</td>\n",
       "      <td>3</td>\n",
       "      <td>81.00</td>\n",
       "      <td>4976.15</td>\n",
       "      <td>No</td>\n",
       "      <td>Bank transfer (automatic)</td>\n",
       "      <td>DSL</td>\n",
       "      <td>Two year</td>\n",
       "      <td>0</td>\n",
       "      <td>0</td>\n",
       "      <td>1</td>\n",
       "      <td>1</td>\n",
       "      <td>0</td>\n",
       "      <td>0</td>\n",
       "      <td>0</td>\n",
       "      <td>1</td>\n",
       "      <td>0</td>\n",
       "      <td>5.08</td>\n",
       "    </tr>\n",
       "    <tr>\n",
       "      <th>4465</th>\n",
       "      <td>0409-WTMPL</td>\n",
       "      <td>Female</td>\n",
       "      <td>0</td>\n",
       "      <td>1</td>\n",
       "      <td>0</td>\n",
       "      <td>58</td>\n",
       "      <td>1</td>\n",
       "      <td>1</td>\n",
       "      <td>2</td>\n",
       "      <td>1</td>\n",
       "      <td>1</td>\n",
       "      <td>1</td>\n",
       "      <td>0</td>\n",
       "      <td>1</td>\n",
       "      <td>0</td>\n",
       "      <td>2</td>\n",
       "      <td>1</td>\n",
       "      <td>4</td>\n",
       "      <td>110.65</td>\n",
       "      <td>6526.65</td>\n",
       "      <td>No</td>\n",
       "      <td>Credit card (automatic)</td>\n",
       "      <td>Fiber optic</td>\n",
       "      <td>One year</td>\n",
       "      <td>0</td>\n",
       "      <td>1</td>\n",
       "      <td>0</td>\n",
       "      <td>0</td>\n",
       "      <td>1</td>\n",
       "      <td>0</td>\n",
       "      <td>1</td>\n",
       "      <td>1</td>\n",
       "      <td>0</td>\n",
       "      <td>4.83</td>\n",
       "    </tr>\n",
       "    <tr>\n",
       "      <th>5017</th>\n",
       "      <td>1085-LDWAM</td>\n",
       "      <td>Female</td>\n",
       "      <td>0</td>\n",
       "      <td>1</td>\n",
       "      <td>1</td>\n",
       "      <td>69</td>\n",
       "      <td>1</td>\n",
       "      <td>0</td>\n",
       "      <td>3</td>\n",
       "      <td>0</td>\n",
       "      <td>0</td>\n",
       "      <td>0</td>\n",
       "      <td>0</td>\n",
       "      <td>0</td>\n",
       "      <td>0</td>\n",
       "      <td>2</td>\n",
       "      <td>1</td>\n",
       "      <td>4</td>\n",
       "      <td>20.35</td>\n",
       "      <td>1442.65</td>\n",
       "      <td>No</td>\n",
       "      <td>Credit card (automatic)</td>\n",
       "      <td>None</td>\n",
       "      <td>One year</td>\n",
       "      <td>0</td>\n",
       "      <td>1</td>\n",
       "      <td>0</td>\n",
       "      <td>0</td>\n",
       "      <td>0</td>\n",
       "      <td>1</td>\n",
       "      <td>1</td>\n",
       "      <td>1</td>\n",
       "      <td>0</td>\n",
       "      <td>5.75</td>\n",
       "    </tr>\n",
       "    <tr>\n",
       "      <th>3521</th>\n",
       "      <td>3039-MJSLN</td>\n",
       "      <td>Male</td>\n",
       "      <td>0</td>\n",
       "      <td>0</td>\n",
       "      <td>1</td>\n",
       "      <td>3</td>\n",
       "      <td>1</td>\n",
       "      <td>0</td>\n",
       "      <td>3</td>\n",
       "      <td>0</td>\n",
       "      <td>0</td>\n",
       "      <td>0</td>\n",
       "      <td>0</td>\n",
       "      <td>0</td>\n",
       "      <td>0</td>\n",
       "      <td>1</td>\n",
       "      <td>0</td>\n",
       "      <td>3</td>\n",
       "      <td>20.20</td>\n",
       "      <td>50.60</td>\n",
       "      <td>No</td>\n",
       "      <td>Bank transfer (automatic)</td>\n",
       "      <td>None</td>\n",
       "      <td>Month-to-month</td>\n",
       "      <td>1</td>\n",
       "      <td>0</td>\n",
       "      <td>0</td>\n",
       "      <td>0</td>\n",
       "      <td>0</td>\n",
       "      <td>1</td>\n",
       "      <td>0</td>\n",
       "      <td>1</td>\n",
       "      <td>0</td>\n",
       "      <td>0.25</td>\n",
       "    </tr>\n",
       "    <tr>\n",
       "      <th>3828</th>\n",
       "      <td>9046-JBFWA</td>\n",
       "      <td>Male</td>\n",
       "      <td>0</td>\n",
       "      <td>0</td>\n",
       "      <td>1</td>\n",
       "      <td>27</td>\n",
       "      <td>1</td>\n",
       "      <td>0</td>\n",
       "      <td>3</td>\n",
       "      <td>0</td>\n",
       "      <td>0</td>\n",
       "      <td>0</td>\n",
       "      <td>0</td>\n",
       "      <td>0</td>\n",
       "      <td>0</td>\n",
       "      <td>1</td>\n",
       "      <td>0</td>\n",
       "      <td>2</td>\n",
       "      <td>19.15</td>\n",
       "      <td>537.35</td>\n",
       "      <td>No</td>\n",
       "      <td>Mailed check</td>\n",
       "      <td>None</td>\n",
       "      <td>Month-to-month</td>\n",
       "      <td>1</td>\n",
       "      <td>0</td>\n",
       "      <td>0</td>\n",
       "      <td>0</td>\n",
       "      <td>0</td>\n",
       "      <td>1</td>\n",
       "      <td>0</td>\n",
       "      <td>0</td>\n",
       "      <td>0</td>\n",
       "      <td>2.25</td>\n",
       "    </tr>\n",
       "  </tbody>\n",
       "</table>\n",
       "</div>"
      ],
      "text/plain": [
       "     customer_id  gender  senior_citizen  partner  dependents  tenure  \\\n",
       "5710  6013-BHCAW    Male               0        1           1      61   \n",
       "4465  0409-WTMPL  Female               0        1           0      58   \n",
       "5017  1085-LDWAM  Female               0        1           1      69   \n",
       "3521  3039-MJSLN    Male               0        0           1       3   \n",
       "3828  9046-JBFWA    Male               0        0           1      27   \n",
       "\n",
       "      phone_service  multiple_lines  internet_service_type_id  \\\n",
       "5710              1               1                         1   \n",
       "4465              1               1                         2   \n",
       "5017              1               0                         3   \n",
       "3521              1               0                         3   \n",
       "3828              1               0                         3   \n",
       "\n",
       "      online_security  online_backup  device_protection  tech_support  \\\n",
       "5710                0              0                  1             1   \n",
       "4465                1              1                  1             0   \n",
       "5017                0              0                  0             0   \n",
       "3521                0              0                  0             0   \n",
       "3828                0              0                  0             0   \n",
       "\n",
       "      streaming_tv  streaming_movies  contract_type_id  paperless_billing  \\\n",
       "5710             1                 0                 3                  1   \n",
       "4465             1                 0                 2                  1   \n",
       "5017             0                 0                 2                  1   \n",
       "3521             0                 0                 1                  0   \n",
       "3828             0                 0                 1                  0   \n",
       "\n",
       "      payment_type_id  monthly_charges  total_charges churn  \\\n",
       "5710                3            81.00        4976.15    No   \n",
       "4465                4           110.65        6526.65    No   \n",
       "5017                4            20.35        1442.65    No   \n",
       "3521                3            20.20          50.60    No   \n",
       "3828                2            19.15         537.35    No   \n",
       "\n",
       "                   payment_type internet_service_type   contract_type  \\\n",
       "5710  Bank transfer (automatic)                   DSL        Two year   \n",
       "4465    Credit card (automatic)           Fiber optic        One year   \n",
       "5017    Credit card (automatic)                  None        One year   \n",
       "3521  Bank transfer (automatic)                  None  Month-to-month   \n",
       "3828               Mailed check                  None  Month-to-month   \n",
       "\n",
       "      month_to_month  one_year  two_year  dsl_internet  fiber_internet  \\\n",
       "5710               0         0         1             1               0   \n",
       "4465               0         1         0             0               1   \n",
       "5017               0         1         0             0               0   \n",
       "3521               1         0         0             0               0   \n",
       "3828               1         0         0             0               0   \n",
       "\n",
       "      no_internet  is_female  is_automatic  churned  t_yrs  \n",
       "5710            0          0             1        0   5.08  \n",
       "4465            0          1             1        0   4.83  \n",
       "5017            1          1             1        0   5.75  \n",
       "3521            1          0             1        0   0.25  \n",
       "3828            1          0             0        0   2.25  "
      ]
     },
     "execution_count": 22,
     "metadata": {},
     "output_type": "execute_result"
    }
   ],
   "source": [
    "train.head()"
   ]
  },
  {
   "cell_type": "markdown",
   "metadata": {},
   "source": [
    "Charting the `monthly_charges` vs `contract_type`, and further dividing by whether or not they churned. Making sure to use my train data.\n",
    "\n"
   ]
  },
  {
   "cell_type": "code",
   "execution_count": 110,
   "metadata": {},
   "outputs": [
    {
     "data": {
      "image/png": "[encoded data removed]",
      "text/plain": [
       "<Figure size 936x720 with 1 Axes>"
      ]
     },
     "metadata": {
      "needs_background": "light"
     },
     "output_type": "display_data"
    }
   ],
   "source": [
    "sns.barplot(x = 'contract_type', y = 'monthly_charges', hue = 'churn', data = train)\n",
    "plt.show()"
   ]
  },
  {
   "cell_type": "markdown",
   "metadata": {},
   "source": [
    "I will probably end up using the `is_automatic` variable if my hypothesis testing shows it is an independent variable."
   ]
  },
  {
   "cell_type": "code",
   "execution_count": 109,
   "metadata": {},
   "outputs": [
    {
     "data": {
      "image/png": "[encoded data removed]",
      "text/plain": [
       "<Figure size 936x720 with 1 Axes>"
      ]
     },
     "metadata": {
      "needs_background": "light"
     },
     "output_type": "display_data"
    }
   ],
   "source": [
    "sns.barplot(x = 'contract_type', y = 'is_automatic', hue = 'churn', data = train)\n",
    "plt.show()"
   ]
  },
  {
   "cell_type": "code",
   "execution_count": 104,
   "metadata": {},
   "outputs": [
    {
     "data": {
      "image/png": "[encoded data removed]",
      "text/plain": [
       "<Figure size 936x720 with 2 Axes>"
      ]
     },
     "metadata": {
      "needs_background": "light"
     },
     "output_type": "display_data"
    }
   ],
   "source": [
    "# Using a heatmap to discover if the independent variables I've selected are correlated in any way.\n",
    "\n",
    "ctab = pd.crosstab(train.churn, train['contract_type'])\n",
    "\n",
    "sns.heatmap(ctab, annot = True, cmap = 'coolwarm', fmt = 'd')\n",
    "plt.show()"
   ]
  },
  {
   "cell_type": "markdown",
   "metadata": {},
   "source": [
    "Comparing the churn `total_charges` variable:"
   ]
  },
  {
   "cell_type": "code",
   "execution_count": 111,
   "metadata": {},
   "outputs": [
    {
     "data": {
      "image/png": "[encoded data removed]",
      "text/plain": [
       "<Figure size 936x720 with 1 Axes>"
      ]
     },
     "metadata": {
      "needs_background": "light"
     },
     "output_type": "display_data"
    }
   ],
   "source": [
    "train.groupby('churn').total_charges.mean().plot.bar(color = 'firebrick', ec = 'black')\n",
    "plt.show()"
   ]
  },
  {
   "cell_type": "markdown",
   "metadata": {},
   "source": [
    "Doing the same comparison but using the `monthly_charges` variable. It appears that the tendancy towards churn for using `monthly_charges` is reversed."
   ]
  },
  {
   "cell_type": "code",
   "execution_count": 112,
   "metadata": {},
   "outputs": [
    {
     "data": {
      "image/png": "[encoded data removed]",
      "text/plain": [
       "<Figure size 936x720 with 1 Axes>"
      ]
     },
     "metadata": {
      "needs_background": "light"
     },
     "output_type": "display_data"
    }
   ],
   "source": [
    "train.groupby('churn').monthly_charges.mean().plot.bar(color = 'firebrick', ec = 'black')\n",
    "plt.show()"
   ]
  },
  {
   "cell_type": "markdown",
   "metadata": {},
   "source": [
    "**Using a heatmap to illustrate correlation between some of the independent variables that have potential to be used in the models.**"
   ]
  },
  {
   "cell_type": "code",
   "execution_count": 26,
   "metadata": {},
   "outputs": [
    {
     "data": {
      "text/html": [
       "<div>\n",
       "<style scoped>\n",
       "    .dataframe tbody tr th:only-of-type {\n",
       "        vertical-align: middle;\n",
       "    }\n",
       "\n",
       "    .dataframe tbody tr th {\n",
       "        vertical-align: top;\n",
       "    }\n",
       "\n",
       "    .dataframe thead th {\n",
       "        text-align: right;\n",
       "    }\n",
       "</style>\n",
       "<table border=\"1\" class=\"dataframe\">\n",
       "  <thead>\n",
       "    <tr style=\"text-align: right;\">\n",
       "      <th></th>\n",
       "      <th>is_female</th>\n",
       "      <th>senior_citizen</th>\n",
       "      <th>paperless_billing</th>\n",
       "      <th>is_automatic</th>\n",
       "      <th>churned</th>\n",
       "    </tr>\n",
       "  </thead>\n",
       "  <tbody>\n",
       "    <tr>\n",
       "      <th>is_female</th>\n",
       "      <td>1.000000</td>\n",
       "      <td>-0.021800</td>\n",
       "      <td>0.011831</td>\n",
       "      <td>0.019679</td>\n",
       "      <td>-0.015909</td>\n",
       "    </tr>\n",
       "    <tr>\n",
       "      <th>senior_citizen</th>\n",
       "      <td>-0.021800</td>\n",
       "      <td>1.000000</td>\n",
       "      <td>0.159859</td>\n",
       "      <td>-0.043700</td>\n",
       "      <td>0.164965</td>\n",
       "    </tr>\n",
       "    <tr>\n",
       "      <th>paperless_billing</th>\n",
       "      <td>0.011831</td>\n",
       "      <td>0.159859</td>\n",
       "      <td>1.000000</td>\n",
       "      <td>-0.011063</td>\n",
       "      <td>0.190913</td>\n",
       "    </tr>\n",
       "    <tr>\n",
       "      <th>is_automatic</th>\n",
       "      <td>0.019679</td>\n",
       "      <td>-0.043700</td>\n",
       "      <td>-0.011063</td>\n",
       "      <td>1.000000</td>\n",
       "      <td>-0.196905</td>\n",
       "    </tr>\n",
       "    <tr>\n",
       "      <th>churned</th>\n",
       "      <td>-0.015909</td>\n",
       "      <td>0.164965</td>\n",
       "      <td>0.190913</td>\n",
       "      <td>-0.196905</td>\n",
       "      <td>1.000000</td>\n",
       "    </tr>\n",
       "  </tbody>\n",
       "</table>\n",
       "</div>"
      ],
      "text/plain": [
       "                   is_female  senior_citizen  paperless_billing  is_automatic  \\\n",
       "is_female           1.000000       -0.021800           0.011831      0.019679   \n",
       "senior_citizen     -0.021800        1.000000           0.159859     -0.043700   \n",
       "paperless_billing   0.011831        0.159859           1.000000     -0.011063   \n",
       "is_automatic        0.019679       -0.043700          -0.011063      1.000000   \n",
       "churned            -0.015909        0.164965           0.190913     -0.196905   \n",
       "\n",
       "                    churned  \n",
       "is_female         -0.015909  \n",
       "senior_citizen     0.164965  \n",
       "paperless_billing  0.190913  \n",
       "is_automatic      -0.196905  \n",
       "churned            1.000000  "
      ]
     },
     "execution_count": 26,
     "metadata": {},
     "output_type": "execute_result"
    }
   ],
   "source": [
    "# Showing the correlation between some of the independent variables I've decided to to look at.\n",
    "telco_heatmap = df_explore[['is_female', 'senior_citizen', 'paperless_billing', 'is_automatic', 'churned']]\n",
    "\n",
    "corr = telco_heatmap.corr()\n",
    "corr"
   ]
  },
  {
   "cell_type": "code",
   "execution_count": 119,
   "metadata": {
    "scrolled": false
   },
   "outputs": [
    {
     "data": {
      "image/png": "[encoded data removed]",
      "text/plain": [
       "<Figure size 936x720 with 2 Axes>"
      ]
     },
     "metadata": {
      "needs_background": "light"
     },
     "output_type": "display_data"
    }
   ],
   "source": [
    "cmap = sns.diverging_palette(15, 175, as_cmap = True)\n",
    "\n",
    "sns.heatmap(corr, annot = True, cmap = cmap)\n",
    "plt.show()"
   ]
  },
  {
   "cell_type": "markdown",
   "metadata": {},
   "source": [
    "#### Results:\n",
    "- Gender doesn't appear to be a driver for churn, at **-0.016**\n",
    "- Automatic payments appear to have a strong negative correlation to whether someone churned, at **-0.2**\n",
    "- Paperless Billing, related to Automatic payment types, also has a stronger positive correlation at **0.19**\n",
    "- Senior citizen has a stronger correlation, at **+.16**"
   ]
  },
  {
   "cell_type": "markdown",
   "metadata": {},
   "source": [
    "**Second heatmap. I'll draw the models' independent variables from this pool of features.**"
   ]
  },
  {
   "cell_type": "code",
   "execution_count": 113,
   "metadata": {},
   "outputs": [
    {
     "data": {
      "text/html": [
       "<div>\n",
       "<style scoped>\n",
       "    .dataframe tbody tr th:only-of-type {\n",
       "        vertical-align: middle;\n",
       "    }\n",
       "\n",
       "    .dataframe tbody tr th {\n",
       "        vertical-align: top;\n",
       "    }\n",
       "\n",
       "    .dataframe thead th {\n",
       "        text-align: right;\n",
       "    }\n",
       "</style>\n",
       "<table border=\"1\" class=\"dataframe\">\n",
       "  <thead>\n",
       "    <tr style=\"text-align: right;\">\n",
       "      <th></th>\n",
       "      <th>monthly_charges</th>\n",
       "      <th>total_charges</th>\n",
       "      <th>phone_service</th>\n",
       "      <th>month_to_month</th>\n",
       "      <th>one_year</th>\n",
       "      <th>two_year</th>\n",
       "      <th>dsl_internet</th>\n",
       "      <th>tech_support</th>\n",
       "      <th>is_automatic</th>\n",
       "      <th>churned</th>\n",
       "    </tr>\n",
       "  </thead>\n",
       "  <tbody>\n",
       "    <tr>\n",
       "      <th>monthly_charges</th>\n",
       "      <td>1.000000</td>\n",
       "      <td>0.655606</td>\n",
       "      <td>0.247370</td>\n",
       "      <td>0.056906</td>\n",
       "      <td>-0.005278</td>\n",
       "      <td>-0.061726</td>\n",
       "      <td>-0.167968</td>\n",
       "      <td>0.335921</td>\n",
       "      <td>0.058448</td>\n",
       "      <td>0.192753</td>\n",
       "    </tr>\n",
       "    <tr>\n",
       "      <th>total_charges</th>\n",
       "      <td>0.655606</td>\n",
       "      <td>1.000000</td>\n",
       "      <td>0.108997</td>\n",
       "      <td>-0.434761</td>\n",
       "      <td>0.161718</td>\n",
       "      <td>0.354509</td>\n",
       "      <td>-0.071424</td>\n",
       "      <td>0.422185</td>\n",
       "      <td>0.302967</td>\n",
       "      <td>-0.192111</td>\n",
       "    </tr>\n",
       "    <tr>\n",
       "      <th>phone_service</th>\n",
       "      <td>0.247370</td>\n",
       "      <td>0.108997</td>\n",
       "      <td>1.000000</td>\n",
       "      <td>-0.000034</td>\n",
       "      <td>0.003822</td>\n",
       "      <td>-0.003646</td>\n",
       "      <td>-0.451276</td>\n",
       "      <td>-0.082523</td>\n",
       "      <td>-0.011405</td>\n",
       "      <td>0.003827</td>\n",
       "    </tr>\n",
       "    <tr>\n",
       "      <th>month_to_month</th>\n",
       "      <td>0.056906</td>\n",
       "      <td>-0.434761</td>\n",
       "      <td>-0.000034</td>\n",
       "      <td>1.000000</td>\n",
       "      <td>-0.577866</td>\n",
       "      <td>-0.616844</td>\n",
       "      <td>-0.048414</td>\n",
       "      <td>-0.280624</td>\n",
       "      <td>-0.307156</td>\n",
       "      <td>0.391353</td>\n",
       "    </tr>\n",
       "    <tr>\n",
       "      <th>one_year</th>\n",
       "      <td>-0.005278</td>\n",
       "      <td>0.161718</td>\n",
       "      <td>0.003822</td>\n",
       "      <td>-0.577866</td>\n",
       "      <td>1.000000</td>\n",
       "      <td>-0.285912</td>\n",
       "      <td>0.037463</td>\n",
       "      <td>0.088394</td>\n",
       "      <td>0.107058</td>\n",
       "      <td>-0.166030</td>\n",
       "    </tr>\n",
       "    <tr>\n",
       "      <th>two_year</th>\n",
       "      <td>-0.061726</td>\n",
       "      <td>0.354509</td>\n",
       "      <td>-0.003646</td>\n",
       "      <td>-0.616844</td>\n",
       "      <td>-0.285912</td>\n",
       "      <td>1.000000</td>\n",
       "      <td>0.020715</td>\n",
       "      <td>0.244245</td>\n",
       "      <td>0.257397</td>\n",
       "      <td>-0.299384</td>\n",
       "    </tr>\n",
       "    <tr>\n",
       "      <th>dsl_internet</th>\n",
       "      <td>-0.167968</td>\n",
       "      <td>-0.071424</td>\n",
       "      <td>-0.451276</td>\n",
       "      <td>-0.048414</td>\n",
       "      <td>0.037463</td>\n",
       "      <td>0.020715</td>\n",
       "      <td>1.000000</td>\n",
       "      <td>0.306285</td>\n",
       "      <td>0.068320</td>\n",
       "      <td>-0.114892</td>\n",
       "    </tr>\n",
       "    <tr>\n",
       "      <th>tech_support</th>\n",
       "      <td>0.335921</td>\n",
       "      <td>0.422185</td>\n",
       "      <td>-0.082523</td>\n",
       "      <td>-0.280624</td>\n",
       "      <td>0.088394</td>\n",
       "      <td>0.244245</td>\n",
       "      <td>0.306285</td>\n",
       "      <td>1.000000</td>\n",
       "      <td>0.188022</td>\n",
       "      <td>-0.168587</td>\n",
       "    </tr>\n",
       "    <tr>\n",
       "      <th>is_automatic</th>\n",
       "      <td>0.058448</td>\n",
       "      <td>0.302967</td>\n",
       "      <td>-0.011405</td>\n",
       "      <td>-0.307156</td>\n",
       "      <td>0.107058</td>\n",
       "      <td>0.257397</td>\n",
       "      <td>0.068320</td>\n",
       "      <td>0.188022</td>\n",
       "      <td>1.000000</td>\n",
       "      <td>-0.196905</td>\n",
       "    </tr>\n",
       "    <tr>\n",
       "      <th>churned</th>\n",
       "      <td>0.192753</td>\n",
       "      <td>-0.192111</td>\n",
       "      <td>0.003827</td>\n",
       "      <td>0.391353</td>\n",
       "      <td>-0.166030</td>\n",
       "      <td>-0.299384</td>\n",
       "      <td>-0.114892</td>\n",
       "      <td>-0.168587</td>\n",
       "      <td>-0.196905</td>\n",
       "      <td>1.000000</td>\n",
       "    </tr>\n",
       "  </tbody>\n",
       "</table>\n",
       "</div>"
      ],
      "text/plain": [
       "                 monthly_charges  total_charges  phone_service  \\\n",
       "monthly_charges         1.000000       0.655606       0.247370   \n",
       "total_charges           0.655606       1.000000       0.108997   \n",
       "phone_service           0.247370       0.108997       1.000000   \n",
       "month_to_month          0.056906      -0.434761      -0.000034   \n",
       "one_year               -0.005278       0.161718       0.003822   \n",
       "two_year               -0.061726       0.354509      -0.003646   \n",
       "dsl_internet           -0.167968      -0.071424      -0.451276   \n",
       "tech_support            0.335921       0.422185      -0.082523   \n",
       "is_automatic            0.058448       0.302967      -0.011405   \n",
       "churned                 0.192753      -0.192111       0.003827   \n",
       "\n",
       "                 month_to_month  one_year  two_year  dsl_internet  \\\n",
       "monthly_charges        0.056906 -0.005278 -0.061726     -0.167968   \n",
       "total_charges         -0.434761  0.161718  0.354509     -0.071424   \n",
       "phone_service         -0.000034  0.003822 -0.003646     -0.451276   \n",
       "month_to_month         1.000000 -0.577866 -0.616844     -0.048414   \n",
       "one_year              -0.577866  1.000000 -0.285912      0.037463   \n",
       "two_year              -0.616844 -0.285912  1.000000      0.020715   \n",
       "dsl_internet          -0.048414  0.037463  0.020715      1.000000   \n",
       "tech_support          -0.280624  0.088394  0.244245      0.306285   \n",
       "is_automatic          -0.307156  0.107058  0.257397      0.068320   \n",
       "churned                0.391353 -0.166030 -0.299384     -0.114892   \n",
       "\n",
       "                 tech_support  is_automatic   churned  \n",
       "monthly_charges      0.335921      0.058448  0.192753  \n",
       "total_charges        0.422185      0.302967 -0.192111  \n",
       "phone_service       -0.082523     -0.011405  0.003827  \n",
       "month_to_month      -0.280624     -0.307156  0.391353  \n",
       "one_year             0.088394      0.107058 -0.166030  \n",
       "two_year             0.244245      0.257397 -0.299384  \n",
       "dsl_internet         0.306285      0.068320 -0.114892  \n",
       "tech_support         1.000000      0.188022 -0.168587  \n",
       "is_automatic         0.188022      1.000000 -0.196905  \n",
       "churned             -0.168587     -0.196905  1.000000  "
      ]
     },
     "execution_count": 113,
     "metadata": {},
     "output_type": "execute_result"
    }
   ],
   "source": [
    "telco_heatmap2 = df_explore[['monthly_charges', 'total_charges', 'phone_service', 'month_to_month', 'one_year', 'two_year', 'dsl_internet', 'tech_support', 'is_automatic', 'churned']]\n",
    "\n",
    "corr2 = telco_heatmap2.corr()\n",
    "corr2"
   ]
  },
  {
   "cell_type": "code",
   "execution_count": 121,
   "metadata": {},
   "outputs": [
    {
     "data": {
      "image/png": "[encoded data removed]",
      "text/plain": [
       "<Figure size 936x720 with 2 Axes>"
      ]
     },
     "metadata": {
      "needs_background": "light"
     },
     "output_type": "display_data"
    }
   ],
   "source": [
    "# Used the sns.heatmap's cmap function to adjust the colors to stand out more distinctly than the default.\n",
    "\n",
    "cmap = sns.diverging_palette(15, 175, as_cmap = True)\n",
    "\n",
    "sns.heatmap(corr2, annot = True, cmap = cmap)\n",
    "plt.show()"
   ]
  },
  {
   "cell_type": "markdown",
   "metadata": {},
   "source": [
    "#### Results:\n",
    "- Monthly charges, total_charges, tech support use, and automatic billing all have strong negative correlations to a customer churning. Whether or not they have phone service isn't strongly correlated to churn based on this analysis.\n",
    "- Month to Month contracts had a high positive correlation with churn, while two year contracts had a high negative correlation.\n",
    "- I will be using Month to month, 2 year, and is_automatic data for my models."
   ]
  },
  {
   "cell_type": "markdown",
   "metadata": {},
   "source": [
    "## Hypothesis Testing:\n",
    "\n",
    "#### Hypothesis #1:\n",
    "- $H_0$: Customer churn is not related to (is independent of) contract type\n",
    "- $H_a$: Customer churn is related to (is not independent of) contract type"
   ]
  },
  {
   "cell_type": "code",
   "execution_count": 31,
   "metadata": {},
   "outputs": [
    {
     "data": {
      "text/plain": [
       "0.05"
      ]
     },
     "execution_count": 31,
     "metadata": {},
     "output_type": "execute_result"
    }
   ],
   "source": [
    "# Setting overall confidence and alpha levels for all testing. My alpha level will not change past this point, regardless of what my models show.\n",
    "\n",
    "confidence_level = .95\n",
    "alpha = round(1 - confidence_level, 2)\n",
    "alpha"
   ]
  },
  {
   "cell_type": "code",
   "execution_count": 32,
   "metadata": {},
   "outputs": [
    {
     "data": {
      "text/html": [
       "<div>\n",
       "<style scoped>\n",
       "    .dataframe tbody tr th:only-of-type {\n",
       "        vertical-align: middle;\n",
       "    }\n",
       "\n",
       "    .dataframe tbody tr th {\n",
       "        vertical-align: top;\n",
       "    }\n",
       "\n",
       "    .dataframe thead th {\n",
       "        text-align: right;\n",
       "    }\n",
       "</style>\n",
       "<table border=\"1\" class=\"dataframe\">\n",
       "  <thead>\n",
       "    <tr style=\"text-align: right;\">\n",
       "      <th></th>\n",
       "      <th>customer_id</th>\n",
       "      <th>gender</th>\n",
       "      <th>senior_citizen</th>\n",
       "      <th>partner</th>\n",
       "      <th>dependents</th>\n",
       "      <th>tenure</th>\n",
       "      <th>phone_service</th>\n",
       "      <th>multiple_lines</th>\n",
       "      <th>internet_service_type_id</th>\n",
       "      <th>online_security</th>\n",
       "      <th>online_backup</th>\n",
       "      <th>device_protection</th>\n",
       "      <th>tech_support</th>\n",
       "      <th>streaming_tv</th>\n",
       "      <th>streaming_movies</th>\n",
       "      <th>contract_type_id</th>\n",
       "      <th>paperless_billing</th>\n",
       "      <th>payment_type_id</th>\n",
       "      <th>monthly_charges</th>\n",
       "      <th>total_charges</th>\n",
       "      <th>churn</th>\n",
       "      <th>payment_type</th>\n",
       "      <th>internet_service_type</th>\n",
       "      <th>contract_type</th>\n",
       "      <th>month_to_month</th>\n",
       "      <th>one_year</th>\n",
       "      <th>two_year</th>\n",
       "      <th>dsl_internet</th>\n",
       "      <th>fiber_internet</th>\n",
       "      <th>no_internet</th>\n",
       "      <th>is_female</th>\n",
       "      <th>is_automatic</th>\n",
       "      <th>churned</th>\n",
       "      <th>t_yrs</th>\n",
       "    </tr>\n",
       "  </thead>\n",
       "  <tbody>\n",
       "    <tr>\n",
       "      <th>5710</th>\n",
       "      <td>6013-BHCAW</td>\n",
       "      <td>Male</td>\n",
       "      <td>0</td>\n",
       "      <td>1</td>\n",
       "      <td>1</td>\n",
       "      <td>61</td>\n",
       "      <td>1</td>\n",
       "      <td>1</td>\n",
       "      <td>1</td>\n",
       "      <td>0</td>\n",
       "      <td>0</td>\n",
       "      <td>1</td>\n",
       "      <td>1</td>\n",
       "      <td>1</td>\n",
       "      <td>0</td>\n",
       "      <td>3</td>\n",
       "      <td>1</td>\n",
       "      <td>3</td>\n",
       "      <td>81.00</td>\n",
       "      <td>4976.15</td>\n",
       "      <td>No</td>\n",
       "      <td>Bank transfer (automatic)</td>\n",
       "      <td>DSL</td>\n",
       "      <td>Two year</td>\n",
       "      <td>0</td>\n",
       "      <td>0</td>\n",
       "      <td>1</td>\n",
       "      <td>1</td>\n",
       "      <td>0</td>\n",
       "      <td>0</td>\n",
       "      <td>0</td>\n",
       "      <td>1</td>\n",
       "      <td>0</td>\n",
       "      <td>5.08</td>\n",
       "    </tr>\n",
       "    <tr>\n",
       "      <th>4465</th>\n",
       "      <td>0409-WTMPL</td>\n",
       "      <td>Female</td>\n",
       "      <td>0</td>\n",
       "      <td>1</td>\n",
       "      <td>0</td>\n",
       "      <td>58</td>\n",
       "      <td>1</td>\n",
       "      <td>1</td>\n",
       "      <td>2</td>\n",
       "      <td>1</td>\n",
       "      <td>1</td>\n",
       "      <td>1</td>\n",
       "      <td>0</td>\n",
       "      <td>1</td>\n",
       "      <td>0</td>\n",
       "      <td>2</td>\n",
       "      <td>1</td>\n",
       "      <td>4</td>\n",
       "      <td>110.65</td>\n",
       "      <td>6526.65</td>\n",
       "      <td>No</td>\n",
       "      <td>Credit card (automatic)</td>\n",
       "      <td>Fiber optic</td>\n",
       "      <td>One year</td>\n",
       "      <td>0</td>\n",
       "      <td>1</td>\n",
       "      <td>0</td>\n",
       "      <td>0</td>\n",
       "      <td>1</td>\n",
       "      <td>0</td>\n",
       "      <td>1</td>\n",
       "      <td>1</td>\n",
       "      <td>0</td>\n",
       "      <td>4.83</td>\n",
       "    </tr>\n",
       "    <tr>\n",
       "      <th>5017</th>\n",
       "      <td>1085-LDWAM</td>\n",
       "      <td>Female</td>\n",
       "      <td>0</td>\n",
       "      <td>1</td>\n",
       "      <td>1</td>\n",
       "      <td>69</td>\n",
       "      <td>1</td>\n",
       "      <td>0</td>\n",
       "      <td>3</td>\n",
       "      <td>0</td>\n",
       "      <td>0</td>\n",
       "      <td>0</td>\n",
       "      <td>0</td>\n",
       "      <td>0</td>\n",
       "      <td>0</td>\n",
       "      <td>2</td>\n",
       "      <td>1</td>\n",
       "      <td>4</td>\n",
       "      <td>20.35</td>\n",
       "      <td>1442.65</td>\n",
       "      <td>No</td>\n",
       "      <td>Credit card (automatic)</td>\n",
       "      <td>None</td>\n",
       "      <td>One year</td>\n",
       "      <td>0</td>\n",
       "      <td>1</td>\n",
       "      <td>0</td>\n",
       "      <td>0</td>\n",
       "      <td>0</td>\n",
       "      <td>1</td>\n",
       "      <td>1</td>\n",
       "      <td>1</td>\n",
       "      <td>0</td>\n",
       "      <td>5.75</td>\n",
       "    </tr>\n",
       "    <tr>\n",
       "      <th>3521</th>\n",
       "      <td>3039-MJSLN</td>\n",
       "      <td>Male</td>\n",
       "      <td>0</td>\n",
       "      <td>0</td>\n",
       "      <td>1</td>\n",
       "      <td>3</td>\n",
       "      <td>1</td>\n",
       "      <td>0</td>\n",
       "      <td>3</td>\n",
       "      <td>0</td>\n",
       "      <td>0</td>\n",
       "      <td>0</td>\n",
       "      <td>0</td>\n",
       "      <td>0</td>\n",
       "      <td>0</td>\n",
       "      <td>1</td>\n",
       "      <td>0</td>\n",
       "      <td>3</td>\n",
       "      <td>20.20</td>\n",
       "      <td>50.60</td>\n",
       "      <td>No</td>\n",
       "      <td>Bank transfer (automatic)</td>\n",
       "      <td>None</td>\n",
       "      <td>Month-to-month</td>\n",
       "      <td>1</td>\n",
       "      <td>0</td>\n",
       "      <td>0</td>\n",
       "      <td>0</td>\n",
       "      <td>0</td>\n",
       "      <td>1</td>\n",
       "      <td>0</td>\n",
       "      <td>1</td>\n",
       "      <td>0</td>\n",
       "      <td>0.25</td>\n",
       "    </tr>\n",
       "    <tr>\n",
       "      <th>3828</th>\n",
       "      <td>9046-JBFWA</td>\n",
       "      <td>Male</td>\n",
       "      <td>0</td>\n",
       "      <td>0</td>\n",
       "      <td>1</td>\n",
       "      <td>27</td>\n",
       "      <td>1</td>\n",
       "      <td>0</td>\n",
       "      <td>3</td>\n",
       "      <td>0</td>\n",
       "      <td>0</td>\n",
       "      <td>0</td>\n",
       "      <td>0</td>\n",
       "      <td>0</td>\n",
       "      <td>0</td>\n",
       "      <td>1</td>\n",
       "      <td>0</td>\n",
       "      <td>2</td>\n",
       "      <td>19.15</td>\n",
       "      <td>537.35</td>\n",
       "      <td>No</td>\n",
       "      <td>Mailed check</td>\n",
       "      <td>None</td>\n",
       "      <td>Month-to-month</td>\n",
       "      <td>1</td>\n",
       "      <td>0</td>\n",
       "      <td>0</td>\n",
       "      <td>0</td>\n",
       "      <td>0</td>\n",
       "      <td>1</td>\n",
       "      <td>0</td>\n",
       "      <td>0</td>\n",
       "      <td>0</td>\n",
       "      <td>2.25</td>\n",
       "    </tr>\n",
       "  </tbody>\n",
       "</table>\n",
       "</div>"
      ],
      "text/plain": [
       "     customer_id  gender  senior_citizen  partner  dependents  tenure  \\\n",
       "5710  6013-BHCAW    Male               0        1           1      61   \n",
       "4465  0409-WTMPL  Female               0        1           0      58   \n",
       "5017  1085-LDWAM  Female               0        1           1      69   \n",
       "3521  3039-MJSLN    Male               0        0           1       3   \n",
       "3828  9046-JBFWA    Male               0        0           1      27   \n",
       "\n",
       "      phone_service  multiple_lines  internet_service_type_id  \\\n",
       "5710              1               1                         1   \n",
       "4465              1               1                         2   \n",
       "5017              1               0                         3   \n",
       "3521              1               0                         3   \n",
       "3828              1               0                         3   \n",
       "\n",
       "      online_security  online_backup  device_protection  tech_support  \\\n",
       "5710                0              0                  1             1   \n",
       "4465                1              1                  1             0   \n",
       "5017                0              0                  0             0   \n",
       "3521                0              0                  0             0   \n",
       "3828                0              0                  0             0   \n",
       "\n",
       "      streaming_tv  streaming_movies  contract_type_id  paperless_billing  \\\n",
       "5710             1                 0                 3                  1   \n",
       "4465             1                 0                 2                  1   \n",
       "5017             0                 0                 2                  1   \n",
       "3521             0                 0                 1                  0   \n",
       "3828             0                 0                 1                  0   \n",
       "\n",
       "      payment_type_id  monthly_charges  total_charges churn  \\\n",
       "5710                3            81.00        4976.15    No   \n",
       "4465                4           110.65        6526.65    No   \n",
       "5017                4            20.35        1442.65    No   \n",
       "3521                3            20.20          50.60    No   \n",
       "3828                2            19.15         537.35    No   \n",
       "\n",
       "                   payment_type internet_service_type   contract_type  \\\n",
       "5710  Bank transfer (automatic)                   DSL        Two year   \n",
       "4465    Credit card (automatic)           Fiber optic        One year   \n",
       "5017    Credit card (automatic)                  None        One year   \n",
       "3521  Bank transfer (automatic)                  None  Month-to-month   \n",
       "3828               Mailed check                  None  Month-to-month   \n",
       "\n",
       "      month_to_month  one_year  two_year  dsl_internet  fiber_internet  \\\n",
       "5710               0         0         1             1               0   \n",
       "4465               0         1         0             0               1   \n",
       "5017               0         1         0             0               0   \n",
       "3521               1         0         0             0               0   \n",
       "3828               1         0         0             0               0   \n",
       "\n",
       "      no_internet  is_female  is_automatic  churned  t_yrs  \n",
       "5710            0          0             1        0   5.08  \n",
       "4465            0          1             1        0   4.83  \n",
       "5017            1          1             1        0   5.75  \n",
       "3521            1          0             1        0   0.25  \n",
       "3828            1          0             0        0   2.25  "
      ]
     },
     "execution_count": 32,
     "metadata": {},
     "output_type": "execute_result"
    }
   ],
   "source": [
    "df_explore.head()"
   ]
  },
  {
   "cell_type": "code",
   "execution_count": 34,
   "metadata": {},
   "outputs": [
    {
     "data": {
      "text/html": [
       "<div>\n",
       "<style scoped>\n",
       "    .dataframe tbody tr th:only-of-type {\n",
       "        vertical-align: middle;\n",
       "    }\n",
       "\n",
       "    .dataframe tbody tr th {\n",
       "        vertical-align: top;\n",
       "    }\n",
       "\n",
       "    .dataframe thead th {\n",
       "        text-align: right;\n",
       "    }\n",
       "</style>\n",
       "<table border=\"1\" class=\"dataframe\">\n",
       "  <thead>\n",
       "    <tr style=\"text-align: right;\">\n",
       "      <th>contract_type</th>\n",
       "      <th>Month-to-month</th>\n",
       "    </tr>\n",
       "    <tr>\n",
       "      <th>churn</th>\n",
       "      <th></th>\n",
       "    </tr>\n",
       "  </thead>\n",
       "  <tbody>\n",
       "    <tr>\n",
       "      <th>No</th>\n",
       "      <td>1269</td>\n",
       "    </tr>\n",
       "    <tr>\n",
       "      <th>Yes</th>\n",
       "      <td>919</td>\n",
       "    </tr>\n",
       "  </tbody>\n",
       "</table>\n",
       "</div>"
      ],
      "text/plain": [
       "contract_type  Month-to-month\n",
       "churn                        \n",
       "No                       1269\n",
       "Yes                       919"
      ]
     },
     "execution_count": 34,
     "metadata": {},
     "output_type": "execute_result"
    }
   ],
   "source": [
    "# contract type is independent of churn:\n",
    "contract_test = df_explore[df_explore.contract_type == 'Month-to-month']\n",
    "contract_test\n",
    "\n",
    "churn_tab = pd.crosstab(contract_test.churn, contract_test.contract_type)\n",
    "churn_tab"
   ]
  },
  {
   "cell_type": "code",
   "execution_count": 35,
   "metadata": {},
   "outputs": [
    {
     "data": {
      "text/html": [
       "<div>\n",
       "<style scoped>\n",
       "    .dataframe tbody tr th:only-of-type {\n",
       "        vertical-align: middle;\n",
       "    }\n",
       "\n",
       "    .dataframe tbody tr th {\n",
       "        vertical-align: top;\n",
       "    }\n",
       "\n",
       "    .dataframe thead th {\n",
       "        text-align: right;\n",
       "    }\n",
       "</style>\n",
       "<table border=\"1\" class=\"dataframe\">\n",
       "  <thead>\n",
       "    <tr style=\"text-align: right;\">\n",
       "      <th>contract_type</th>\n",
       "      <th>Month-to-month</th>\n",
       "      <th>One year</th>\n",
       "      <th>Two year</th>\n",
       "    </tr>\n",
       "    <tr>\n",
       "      <th>churn</th>\n",
       "      <th></th>\n",
       "      <th></th>\n",
       "      <th></th>\n",
       "    </tr>\n",
       "  </thead>\n",
       "  <tbody>\n",
       "    <tr>\n",
       "      <th>No</th>\n",
       "      <td>1269</td>\n",
       "      <td>730</td>\n",
       "      <td>898</td>\n",
       "    </tr>\n",
       "    <tr>\n",
       "      <th>Yes</th>\n",
       "      <td>919</td>\n",
       "      <td>103</td>\n",
       "      <td>24</td>\n",
       "    </tr>\n",
       "  </tbody>\n",
       "</table>\n",
       "</div>"
      ],
      "text/plain": [
       "contract_type  Month-to-month  One year  Two year\n",
       "churn                                            \n",
       "No                       1269       730       898\n",
       "Yes                       919       103        24"
      ]
     },
     "execution_count": 35,
     "metadata": {},
     "output_type": "execute_result"
    }
   ],
   "source": [
    "# contract type is independent of churn:\n",
    "contract_tab = pd.crosstab(df_explore.churn, df_explore.contract_type)\n",
    "contract_tab"
   ]
  },
  {
   "cell_type": "code",
   "execution_count": 36,
   "metadata": {},
   "outputs": [
    {
     "name": "stdout",
     "output_type": "stream",
     "text": [
      "p-value is: 1.655e-136\n",
      "chi2 value is: 625.3\n",
      "Our p-value is less than our alpha, thus the null hypothesis is rejected.\n"
     ]
    }
   ],
   "source": [
    "# Easy way from text:\n",
    "# chi2, p, degf, expected = stats.chi2_contingency(observed)\n",
    "\n",
    "chi2, p, degf, expected = stats.chi2_contingency(contract_tab)\n",
    "\n",
    "print(f'p-value is: {p:.4}')\n",
    "print(f'chi2 value is: {chi2:.4}')\n",
    "\n",
    "if p < alpha:\n",
    "    print(\"Our p-value is less than our alpha, thus the null hypothesis is rejected.\")\n",
    "else:\n",
    "    print(\"Our p-value is greater than our alpha, thus we fail to reject the null hypothesis \")"
   ]
  },
  {
   "cell_type": "markdown",
   "metadata": {},
   "source": [
    "#### Hypothesis Test Result:\n",
    "\n",
    "- Null hypothesis was rejected, meaning those variables were independent of churn. Can use those in modeling."
   ]
  },
  {
   "cell_type": "markdown",
   "metadata": {},
   "source": [
    "#### Hypothesis #2:\n",
    "- $H_0$: Customer churn is not related to (is independent of) automatic payment type\n",
    "- $H_a$: Customer churn is related to (is not independent of) automatic payment type"
   ]
  },
  {
   "cell_type": "code",
   "execution_count": 37,
   "metadata": {},
   "outputs": [
    {
     "data": {
      "text/plain": [
       "(3943, 1)"
      ]
     },
     "execution_count": 37,
     "metadata": {},
     "output_type": "execute_result"
    }
   ],
   "source": [
    "# How to create a dataframe from another set of columns:\n",
    "df_explore_test2 = df_explore[['is_automatic']]\n",
    "df_explore_test2.shape"
   ]
  },
  {
   "cell_type": "code",
   "execution_count": 38,
   "metadata": {},
   "outputs": [
    {
     "name": "stdout",
     "output_type": "stream",
     "text": [
      "p-value is: 6.408e-35\n",
      "chi2 value is: 152.0\n",
      "Our p-value is less than our alpha, thus the null hypothesis is rejected.\n"
     ]
    }
   ],
   "source": [
    "# How to create a dataframe from another set of columns:\n",
    "df_explore_test2 = df_explore[['is_automatic']]\n",
    "\n",
    "# payment type is independent of churn:\n",
    "payment_tab = pd.crosstab(df_explore.churn, df_explore.is_automatic)\n",
    "\n",
    "# Easy way from text:\n",
    "# chi2, p, degf, expected = stats.chi2_contingency(observed)\n",
    "\n",
    "chi2, p, degf, expected = stats.chi2_contingency(payment_tab)\n",
    "\n",
    "print(f'p-value is: {p:.4}')\n",
    "print(f'chi2 value is: {chi2:.4}')\n",
    "\n",
    "if p < alpha:\n",
    "    print(\"Our p-value is less than our alpha, thus the null hypothesis is rejected.\")\n",
    "else:\n",
    "    print(\"Our p-value is greater than our alpha, thus we fail to reject the null hypothesis \")"
   ]
  },
  {
   "cell_type": "code",
   "execution_count": 39,
   "metadata": {},
   "outputs": [
    {
     "name": "stdout",
     "output_type": "stream",
     "text": [
      "p-value is: 6.408e-35\n",
      "chi2 value is: 152.0\n",
      "Our p-value is less than our alpha, thus the null hypothesis is rejected.\n"
     ]
    }
   ],
   "source": [
    "# Easy way from text:\n",
    "# chi2, p, degf, expected = stats.chi2_contingency(observed)\n",
    "\n",
    "chi2, p, degf, expected = stats.chi2_contingency(payment_tab)\n",
    "\n",
    "print(f'p-value is: {p:.4}')\n",
    "print(f'chi2 value is: {chi2:.4}')\n",
    "\n",
    "if p < alpha:\n",
    "    print(\"Our p-value is less than our alpha, thus the null hypothesis is rejected.\")\n",
    "else:\n",
    "    print(\"Our p-value is greater than our alpha, thus we fail to reject the null hypothesis \")"
   ]
  },
  {
   "cell_type": "markdown",
   "metadata": {},
   "source": [
    "#### Hypothesis Test Result:\n",
    "\n",
    "- Null hypothesis was rejected, meaning those variables were independent of churn."
   ]
  },
  {
   "cell_type": "markdown",
   "metadata": {},
   "source": [
    "# Modeling\n",
    "\n",
    "Using this Logistic Regression model first, then Decision Tree and finally KNN"
   ]
  },
  {
   "cell_type": "markdown",
   "metadata": {},
   "source": [
    "## Logistic Regression Model"
   ]
  },
  {
   "cell_type": "code",
   "execution_count": 56,
   "metadata": {},
   "outputs": [],
   "source": [
    "df = get_telco_data()\n",
    "df = prep_telco_data_all(df)"
   ]
  },
  {
   "cell_type": "code",
   "execution_count": 57,
   "metadata": {},
   "outputs": [
    {
     "data": {
      "text/html": [
       "<div>\n",
       "<style scoped>\n",
       "    .dataframe tbody tr th:only-of-type {\n",
       "        vertical-align: middle;\n",
       "    }\n",
       "\n",
       "    .dataframe tbody tr th {\n",
       "        vertical-align: top;\n",
       "    }\n",
       "\n",
       "    .dataframe thead th {\n",
       "        text-align: right;\n",
       "    }\n",
       "</style>\n",
       "<table border=\"1\" class=\"dataframe\">\n",
       "  <thead>\n",
       "    <tr style=\"text-align: right;\">\n",
       "      <th></th>\n",
       "      <th>customer_id</th>\n",
       "      <th>gender</th>\n",
       "      <th>senior_citizen</th>\n",
       "      <th>partner</th>\n",
       "      <th>dependents</th>\n",
       "      <th>tenure</th>\n",
       "      <th>phone_service</th>\n",
       "      <th>multiple_lines</th>\n",
       "      <th>internet_service_type_id</th>\n",
       "      <th>online_security</th>\n",
       "      <th>online_backup</th>\n",
       "      <th>device_protection</th>\n",
       "      <th>tech_support</th>\n",
       "      <th>streaming_tv</th>\n",
       "      <th>streaming_movies</th>\n",
       "      <th>contract_type_id</th>\n",
       "      <th>paperless_billing</th>\n",
       "      <th>payment_type_id</th>\n",
       "      <th>monthly_charges</th>\n",
       "      <th>total_charges</th>\n",
       "      <th>churn</th>\n",
       "      <th>payment_type</th>\n",
       "      <th>internet_service_type</th>\n",
       "      <th>contract_type</th>\n",
       "      <th>month_to_month</th>\n",
       "      <th>one_year</th>\n",
       "      <th>two_year</th>\n",
       "      <th>dsl_internet</th>\n",
       "      <th>fiber_internet</th>\n",
       "      <th>no_internet</th>\n",
       "      <th>is_female</th>\n",
       "      <th>is_automatic</th>\n",
       "      <th>churned</th>\n",
       "    </tr>\n",
       "  </thead>\n",
       "  <tbody>\n",
       "    <tr>\n",
       "      <th>0</th>\n",
       "      <td>0003-MKNFE</td>\n",
       "      <td>Male</td>\n",
       "      <td>0</td>\n",
       "      <td>0</td>\n",
       "      <td>0</td>\n",
       "      <td>9</td>\n",
       "      <td>1</td>\n",
       "      <td>1</td>\n",
       "      <td>1</td>\n",
       "      <td>0</td>\n",
       "      <td>0</td>\n",
       "      <td>0</td>\n",
       "      <td>0</td>\n",
       "      <td>0</td>\n",
       "      <td>0</td>\n",
       "      <td>1</td>\n",
       "      <td>0</td>\n",
       "      <td>2</td>\n",
       "      <td>59.9</td>\n",
       "      <td>542.40</td>\n",
       "      <td>No</td>\n",
       "      <td>Mailed check</td>\n",
       "      <td>DSL</td>\n",
       "      <td>Month-to-month</td>\n",
       "      <td>1</td>\n",
       "      <td>0</td>\n",
       "      <td>0</td>\n",
       "      <td>1</td>\n",
       "      <td>0</td>\n",
       "      <td>0</td>\n",
       "      <td>0</td>\n",
       "      <td>0</td>\n",
       "      <td>0</td>\n",
       "    </tr>\n",
       "    <tr>\n",
       "      <th>1</th>\n",
       "      <td>0013-MHZWF</td>\n",
       "      <td>Female</td>\n",
       "      <td>0</td>\n",
       "      <td>0</td>\n",
       "      <td>1</td>\n",
       "      <td>9</td>\n",
       "      <td>1</td>\n",
       "      <td>0</td>\n",
       "      <td>1</td>\n",
       "      <td>0</td>\n",
       "      <td>0</td>\n",
       "      <td>0</td>\n",
       "      <td>1</td>\n",
       "      <td>1</td>\n",
       "      <td>0</td>\n",
       "      <td>1</td>\n",
       "      <td>1</td>\n",
       "      <td>4</td>\n",
       "      <td>69.4</td>\n",
       "      <td>571.45</td>\n",
       "      <td>No</td>\n",
       "      <td>Credit card (automatic)</td>\n",
       "      <td>DSL</td>\n",
       "      <td>Month-to-month</td>\n",
       "      <td>1</td>\n",
       "      <td>0</td>\n",
       "      <td>0</td>\n",
       "      <td>1</td>\n",
       "      <td>0</td>\n",
       "      <td>0</td>\n",
       "      <td>1</td>\n",
       "      <td>1</td>\n",
       "      <td>0</td>\n",
       "    </tr>\n",
       "    <tr>\n",
       "      <th>2</th>\n",
       "      <td>0015-UOCOJ</td>\n",
       "      <td>Female</td>\n",
       "      <td>1</td>\n",
       "      <td>0</td>\n",
       "      <td>0</td>\n",
       "      <td>7</td>\n",
       "      <td>1</td>\n",
       "      <td>0</td>\n",
       "      <td>1</td>\n",
       "      <td>1</td>\n",
       "      <td>0</td>\n",
       "      <td>0</td>\n",
       "      <td>0</td>\n",
       "      <td>0</td>\n",
       "      <td>0</td>\n",
       "      <td>1</td>\n",
       "      <td>1</td>\n",
       "      <td>1</td>\n",
       "      <td>48.2</td>\n",
       "      <td>340.35</td>\n",
       "      <td>No</td>\n",
       "      <td>Electronic check</td>\n",
       "      <td>DSL</td>\n",
       "      <td>Month-to-month</td>\n",
       "      <td>1</td>\n",
       "      <td>0</td>\n",
       "      <td>0</td>\n",
       "      <td>1</td>\n",
       "      <td>0</td>\n",
       "      <td>0</td>\n",
       "      <td>1</td>\n",
       "      <td>0</td>\n",
       "      <td>0</td>\n",
       "    </tr>\n",
       "    <tr>\n",
       "      <th>3</th>\n",
       "      <td>0023-HGHWL</td>\n",
       "      <td>Male</td>\n",
       "      <td>1</td>\n",
       "      <td>0</td>\n",
       "      <td>0</td>\n",
       "      <td>1</td>\n",
       "      <td>0</td>\n",
       "      <td>0</td>\n",
       "      <td>1</td>\n",
       "      <td>0</td>\n",
       "      <td>0</td>\n",
       "      <td>0</td>\n",
       "      <td>0</td>\n",
       "      <td>0</td>\n",
       "      <td>0</td>\n",
       "      <td>1</td>\n",
       "      <td>1</td>\n",
       "      <td>1</td>\n",
       "      <td>25.1</td>\n",
       "      <td>25.10</td>\n",
       "      <td>Yes</td>\n",
       "      <td>Electronic check</td>\n",
       "      <td>DSL</td>\n",
       "      <td>Month-to-month</td>\n",
       "      <td>1</td>\n",
       "      <td>0</td>\n",
       "      <td>0</td>\n",
       "      <td>1</td>\n",
       "      <td>0</td>\n",
       "      <td>0</td>\n",
       "      <td>0</td>\n",
       "      <td>0</td>\n",
       "      <td>1</td>\n",
       "    </tr>\n",
       "    <tr>\n",
       "      <th>4</th>\n",
       "      <td>0032-PGELS</td>\n",
       "      <td>Female</td>\n",
       "      <td>0</td>\n",
       "      <td>1</td>\n",
       "      <td>1</td>\n",
       "      <td>1</td>\n",
       "      <td>0</td>\n",
       "      <td>0</td>\n",
       "      <td>1</td>\n",
       "      <td>1</td>\n",
       "      <td>0</td>\n",
       "      <td>0</td>\n",
       "      <td>0</td>\n",
       "      <td>0</td>\n",
       "      <td>0</td>\n",
       "      <td>1</td>\n",
       "      <td>0</td>\n",
       "      <td>3</td>\n",
       "      <td>30.5</td>\n",
       "      <td>30.50</td>\n",
       "      <td>Yes</td>\n",
       "      <td>Bank transfer (automatic)</td>\n",
       "      <td>DSL</td>\n",
       "      <td>Month-to-month</td>\n",
       "      <td>1</td>\n",
       "      <td>0</td>\n",
       "      <td>0</td>\n",
       "      <td>1</td>\n",
       "      <td>0</td>\n",
       "      <td>0</td>\n",
       "      <td>1</td>\n",
       "      <td>1</td>\n",
       "      <td>1</td>\n",
       "    </tr>\n",
       "  </tbody>\n",
       "</table>\n",
       "</div>"
      ],
      "text/plain": [
       "  customer_id  gender  senior_citizen  partner  dependents  tenure  \\\n",
       "0  0003-MKNFE    Male               0        0           0       9   \n",
       "1  0013-MHZWF  Female               0        0           1       9   \n",
       "2  0015-UOCOJ  Female               1        0           0       7   \n",
       "3  0023-HGHWL    Male               1        0           0       1   \n",
       "4  0032-PGELS  Female               0        1           1       1   \n",
       "\n",
       "   phone_service  multiple_lines  internet_service_type_id  online_security  \\\n",
       "0              1               1                         1                0   \n",
       "1              1               0                         1                0   \n",
       "2              1               0                         1                1   \n",
       "3              0               0                         1                0   \n",
       "4              0               0                         1                1   \n",
       "\n",
       "   online_backup  device_protection  tech_support  streaming_tv  \\\n",
       "0              0                  0             0             0   \n",
       "1              0                  0             1             1   \n",
       "2              0                  0             0             0   \n",
       "3              0                  0             0             0   \n",
       "4              0                  0             0             0   \n",
       "\n",
       "   streaming_movies  contract_type_id  paperless_billing  payment_type_id  \\\n",
       "0                 0                 1                  0                2   \n",
       "1                 0                 1                  1                4   \n",
       "2                 0                 1                  1                1   \n",
       "3                 0                 1                  1                1   \n",
       "4                 0                 1                  0                3   \n",
       "\n",
       "   monthly_charges  total_charges churn               payment_type  \\\n",
       "0             59.9         542.40    No               Mailed check   \n",
       "1             69.4         571.45    No    Credit card (automatic)   \n",
       "2             48.2         340.35    No           Electronic check   \n",
       "3             25.1          25.10   Yes           Electronic check   \n",
       "4             30.5          30.50   Yes  Bank transfer (automatic)   \n",
       "\n",
       "  internet_service_type   contract_type  month_to_month  one_year  two_year  \\\n",
       "0                   DSL  Month-to-month               1         0         0   \n",
       "1                   DSL  Month-to-month               1         0         0   \n",
       "2                   DSL  Month-to-month               1         0         0   \n",
       "3                   DSL  Month-to-month               1         0         0   \n",
       "4                   DSL  Month-to-month               1         0         0   \n",
       "\n",
       "   dsl_internet  fiber_internet  no_internet  is_female  is_automatic  churned  \n",
       "0             1               0            0          0             0        0  \n",
       "1             1               0            0          1             1        0  \n",
       "2             1               0            0          1             0        0  \n",
       "3             1               0            0          0             0        1  \n",
       "4             1               0            0          1             1        1  "
      ]
     },
     "execution_count": 57,
     "metadata": {},
     "output_type": "execute_result"
    }
   ],
   "source": [
    "df.head()"
   ]
  },
  {
   "cell_type": "code",
   "execution_count": 58,
   "metadata": {},
   "outputs": [],
   "source": [
    "# Variables assigned with my independent (inde) variable choices:\n",
    "X_train_inde = df[['is_automatic', 'month_to_month', 'one_year', 'two_year', 'monthly_charges', 'total_charges']]\n",
    "X_validate_inde = X_train_inde\n",
    "X_test_inde = X_train_inde\n",
    "\n",
    "# Defining the X and Y variables for my modeling\n",
    "X_train_1 = train[['is_automatic', 'month_to_month', 'one_year', 'two_year', 'monthly_charges', 'total_charges']]\n",
    "y_train_1 = train[['churned']]\n",
    "\n",
    "X_validate_1 = validate[['is_automatic', 'month_to_month', 'one_year', 'two_year', 'monthly_charges', 'total_charges']]\n",
    "y_validate_1 = validate[['churned']]\n",
    "\n",
    "X_test_1 = test[['is_automatic', 'month_to_month', 'one_year', 'two_year', 'monthly_charges', 'total_charges']]\n",
    "y_test_1 = test[['churned']]"
   ]
  },
  {
   "cell_type": "code",
   "execution_count": 59,
   "metadata": {},
   "outputs": [],
   "source": []
  },
  {
   "cell_type": "code",
   "execution_count": 77,
   "metadata": {},
   "outputs": [
    {
     "name": "stdout",
     "output_type": "stream",
     "text": [
      "Accuracy of Logistic Classifier on training set: 0.79\n",
      "              precision    recall  f1-score   support\n",
      "\n",
      "           0       0.83      0.90      0.86      2897\n",
      "           1       0.63      0.48      0.54      1046\n",
      "\n",
      "    accuracy                           0.79      3943\n",
      "   macro avg       0.73      0.69      0.70      3943\n",
      "weighted avg       0.77      0.79      0.78      3943\n",
      "\n"
     ]
    }
   ],
   "source": [
    "# Basic logistic regression model to start:\n",
    "\n",
    "# Only fit on my training dataset\n",
    "logit = LogisticRegression(C = 1.0, random_state=123)\n",
    "\n",
    "logit.fit(X_train_1, y_train_1)\n",
    "\n",
    "# Train data prediction:\n",
    "y_pred_1 = logit.predict(X_train_1)\n",
    "\n",
    "# Now the est. of churn based on train predict:\n",
    "y_pred_prob_1 = logit.predict_proba(X_train_1)\n",
    "\n",
    "print('Accuracy of Logistic Classifier on training set: {:.2f}'\n",
    "     .format(logit.score(X_train_1, y_train_1)))\n",
    "print(classification_report(y_train_1, y_pred_1))"
   ]
  },
  {
   "cell_type": "markdown",
   "metadata": {},
   "source": [
    "## Random Forest Model"
   ]
  },
  {
   "cell_type": "code",
   "execution_count": 90,
   "metadata": {},
   "outputs": [],
   "source": [
    "from sklearn.ensemble import RandomForestClassifier"
   ]
  },
  {
   "cell_type": "code",
   "execution_count": 91,
   "metadata": {},
   "outputs": [],
   "source": [
    "# Defining the X and Y variables for my modeling\n",
    "X_train_rf = train[['is_automatic', 'month_to_month', 'one_year', 'two_year', 'monthly_charges', 'total_charges']]\n",
    "y_train_rf = train[['churned']]"
   ]
  },
  {
   "cell_type": "code",
   "execution_count": 92,
   "metadata": {},
   "outputs": [
    {
     "name": "stdout",
     "output_type": "stream",
     "text": [
      "Accuracy of Random Forest Model on training set: 0.79\n",
      "              precision    recall  f1-score   support\n",
      "\n",
      "           0       0.86      0.93      0.89      2897\n",
      "           1       0.74      0.57      0.64      1046\n",
      "\n",
      "    accuracy                           0.83      3943\n",
      "   macro avg       0.80      0.75      0.77      3943\n",
      "weighted avg       0.83      0.83      0.83      3943\n",
      "\n"
     ]
    }
   ],
   "source": [
    "# Using Random Forest Model\n",
    "rf = RandomForestClassifier(bootstrap=True,\n",
    "                            min_samples_leaf=10,\n",
    "                            n_estimators=100,\n",
    "                            max_depth=20, \n",
    "                            random_state=123)\n",
    "\n",
    "# Fitting the model using the train data:\n",
    "rf.fit(X_train_rf, y_train_rf)\n",
    "\n",
    "# Making prediction:\n",
    "y_pred_rf = rf.predict(X_train_rf)\n",
    "\n",
    "# Estimating the probability of churn using the training dataset:\n",
    "y_pred_proba_rf = rf.predict_proba(X_train_rf)\n",
    "\n",
    "\n",
    "print('Accuracy of Random Forest Model on training set: {:.2f}'\n",
    "     .format(logit.score(X_train_rf, y_train_rf)))\n",
    "print(classification_report(y_train_rf, y_pred_rf))"
   ]
  },
  {
   "cell_type": "markdown",
   "metadata": {},
   "source": [
    "#### Results:\n",
    "- Same accuracy as the logistic regression model.\n",
    "- Slightly higher precision, recall, and f1-scores using this Random Forest Model.\n",
    "\n",
    "#### Conclusion:\n",
    "- Two Models are now run through the test set, I'll use both on the validation set to see which one is better."
   ]
  },
  {
   "cell_type": "markdown",
   "metadata": {},
   "source": [
    "## Model - Validation Stage"
   ]
  },
  {
   "cell_type": "markdown",
   "metadata": {},
   "source": [
    "### Logistic Regression Model Validation"
   ]
  },
  {
   "cell_type": "code",
   "execution_count": 81,
   "metadata": {},
   "outputs": [
    {
     "name": "stdout",
     "output_type": "stream",
     "text": [
      "Accuracy of Logistic Classifier on validate set: 0.79\n",
      "              precision    recall  f1-score   support\n",
      "\n",
      "           0       0.83      0.89      0.86      1242\n",
      "           1       0.63      0.50      0.56       449\n",
      "\n",
      "    accuracy                           0.79      1691\n",
      "   macro avg       0.73      0.70      0.71      1691\n",
      "weighted avg       0.78      0.79      0.78      1691\n",
      "\n"
     ]
    }
   ],
   "source": [
    "# Using the logistic regression model on the validate dataset:\n",
    "\n",
    "# Train data prediction:\n",
    "y_pred_val_1 = logit.predict(X_validate_1)\n",
    "\n",
    "# Now the est. of churn based on train predict:\n",
    "y_pred_prob_val_1 = logit.predict_proba(X_validate_1)\n",
    "\n",
    "print('Accuracy of Logistic Classifier on validate set: {:.2f}'\n",
    "     .format(logit.score(X_validate_1, y_validate_1)))\n",
    "print(classification_report(y_validate_1, y_pred_val_1))"
   ]
  },
  {
   "cell_type": "code",
   "execution_count": 93,
   "metadata": {},
   "outputs": [],
   "source": [
    "### Random Forest Model Validation"
   ]
  },
  {
   "cell_type": "code",
   "execution_count": 94,
   "metadata": {},
   "outputs": [
    {
     "name": "stdout",
     "output_type": "stream",
     "text": [
      "Accuracy of Random Forest Model on training set: 0.79\n",
      "              precision    recall  f1-score   support\n",
      "\n",
      "           0       0.84      0.90      0.87      1242\n",
      "           1       0.64      0.52      0.58       449\n",
      "\n",
      "    accuracy                           0.80      1691\n",
      "   macro avg       0.74      0.71      0.72      1691\n",
      "weighted avg       0.79      0.80      0.79      1691\n",
      "\n"
     ]
    }
   ],
   "source": [
    "X_val_rf = validate[['is_automatic', 'month_to_month', 'one_year', 'two_year', 'monthly_charges', 'total_charges']]\n",
    "y_val_rf = validate[['churned']]\n",
    "\n",
    "# Making prediction, but this time on the validate dataset:\n",
    "y_pred_val_rf = rf.predict(X_val_rf)\n",
    "\n",
    "# Estimating the probability of churn using the training dataset:\n",
    "y_pred_proba_val_rf = rf.predict_proba(X_val_rf)\n",
    "\n",
    "\n",
    "print('Accuracy of Random Forest Model on training set: {:.2f}'\n",
    "     .format(logit.score(X_val_rf, y_val_rf)))\n",
    "print(classification_report(y_val_rf, y_pred_val_rf))"
   ]
  },
  {
   "cell_type": "markdown",
   "metadata": {},
   "source": [
    "#### Results:\n",
    "- Both models return almost exactly the same results.\n",
    "- Since both models are so similar, I opted to test using the Logistic Regression Model.\n",
    "    - Technically, the Random Forest model was slightly better, but they were so similar I felt I had to make a judgement call. In future I want to do more tweaking of the hyperparameters of the logistic regression model over the random forest model, hence my decision to stick with the LR model."
   ]
  },
  {
   "cell_type": "markdown",
   "metadata": {},
   "source": [
    "## Model Testing\n",
    "In the testing step, only test the top model I've identified from the train and validate phases."
   ]
  },
  {
   "cell_type": "code",
   "execution_count": 95,
   "metadata": {},
   "outputs": [
    {
     "name": "stdout",
     "output_type": "stream",
     "text": [
      "Accuracy of Logistic Classifier on test dataset: 0.80\n",
      "              precision    recall  f1-score   support\n",
      "\n",
      "           0       0.83      0.91      0.87      1035\n",
      "           1       0.66      0.47      0.55       374\n",
      "\n",
      "    accuracy                           0.80      1409\n",
      "   macro avg       0.74      0.69      0.71      1409\n",
      "weighted avg       0.78      0.80      0.78      1409\n",
      "\n"
     ]
    }
   ],
   "source": [
    "# Using the logistic regression model on the validate dataset:\n",
    "\n",
    "# Train data prediction:\n",
    "y_pred_test_1 = logit.predict(X_test_1)\n",
    "\n",
    "# Now the est. of churn based on train predict:\n",
    "y_pred_prob_test_1 = logit.predict_proba(X_test_1)\n",
    "\n",
    "print('Accuracy of Logistic Classifier on test dataset: {:.2f}'\n",
    "     .format(logit.score(X_test_1, y_test_1)))\n",
    "print(classification_report(y_test_1, y_pred_test_1))"
   ]
  },
  {
   "cell_type": "markdown",
   "metadata": {},
   "source": [
    "## Model Evaluation"
   ]
  },
  {
   "cell_type": "code",
   "execution_count": 96,
   "metadata": {},
   "outputs": [
    {
     "data": {
      "text/plain": [
       "array([[2602,  295],\n",
       "       [ 545,  501]])"
      ]
     },
     "execution_count": 96,
     "metadata": {},
     "output_type": "execute_result"
    }
   ],
   "source": [
    "\n",
    "# The accuracy, precision and recall for predicting who will churn (churn = 0)\n",
    "confusion_matrix(train.churned, y_pred_1)\n"
   ]
  },
  {
   "cell_type": "markdown",
   "metadata": {},
   "source": [
    "# Predicting Churn\n",
    "\n",
    "#### Adding my model predictions to the original dataset."
   ]
  },
  {
   "cell_type": "code",
   "execution_count": 84,
   "metadata": {},
   "outputs": [
    {
     "data": {
      "text/html": [
       "<div>\n",
       "<style scoped>\n",
       "    .dataframe tbody tr th:only-of-type {\n",
       "        vertical-align: middle;\n",
       "    }\n",
       "\n",
       "    .dataframe tbody tr th {\n",
       "        vertical-align: top;\n",
       "    }\n",
       "\n",
       "    .dataframe thead th {\n",
       "        text-align: right;\n",
       "    }\n",
       "</style>\n",
       "<table border=\"1\" class=\"dataframe\">\n",
       "  <thead>\n",
       "    <tr style=\"text-align: right;\">\n",
       "      <th></th>\n",
       "      <th>actual</th>\n",
       "      <th>yhat</th>\n",
       "      <th>probs</th>\n",
       "    </tr>\n",
       "  </thead>\n",
       "  <tbody>\n",
       "    <tr>\n",
       "      <th>3999</th>\n",
       "      <td>No</td>\n",
       "      <td>0</td>\n",
       "      <td>0.128573</td>\n",
       "    </tr>\n",
       "    <tr>\n",
       "      <th>5302</th>\n",
       "      <td>No</td>\n",
       "      <td>0</td>\n",
       "      <td>0.072296</td>\n",
       "    </tr>\n",
       "    <tr>\n",
       "      <th>86</th>\n",
       "      <td>No</td>\n",
       "      <td>1</td>\n",
       "      <td>0.624613</td>\n",
       "    </tr>\n",
       "    <tr>\n",
       "      <th>4399</th>\n",
       "      <td>No</td>\n",
       "      <td>0</td>\n",
       "      <td>0.068184</td>\n",
       "    </tr>\n",
       "    <tr>\n",
       "      <th>1900</th>\n",
       "      <td>No</td>\n",
       "      <td>0</td>\n",
       "      <td>0.342286</td>\n",
       "    </tr>\n",
       "    <tr>\n",
       "      <th>1577</th>\n",
       "      <td>No</td>\n",
       "      <td>0</td>\n",
       "      <td>0.420631</td>\n",
       "    </tr>\n",
       "    <tr>\n",
       "      <th>1240</th>\n",
       "      <td>No</td>\n",
       "      <td>1</td>\n",
       "      <td>0.561124</td>\n",
       "    </tr>\n",
       "    <tr>\n",
       "      <th>1377</th>\n",
       "      <td>Yes</td>\n",
       "      <td>1</td>\n",
       "      <td>0.705744</td>\n",
       "    </tr>\n",
       "    <tr>\n",
       "      <th>6426</th>\n",
       "      <td>No</td>\n",
       "      <td>0</td>\n",
       "      <td>0.014440</td>\n",
       "    </tr>\n",
       "    <tr>\n",
       "      <th>2488</th>\n",
       "      <td>Yes</td>\n",
       "      <td>1</td>\n",
       "      <td>0.624205</td>\n",
       "    </tr>\n",
       "  </tbody>\n",
       "</table>\n",
       "</div>"
      ],
      "text/plain": [
       "     actual  yhat     probs\n",
       "3999     No     0  0.128573\n",
       "5302     No     0  0.072296\n",
       "86       No     1  0.624613\n",
       "4399     No     0  0.068184\n",
       "1900     No     0  0.342286\n",
       "1577     No     0  0.420631\n",
       "1240     No     1  0.561124\n",
       "1377    Yes     1  0.705744\n",
       "6426     No     0  0.014440\n",
       "2488    Yes     1  0.624205"
      ]
     },
     "execution_count": 84,
     "metadata": {},
     "output_type": "execute_result"
    }
   ],
   "source": [
    "# Create eval_df and rename the train survived column actual.\n",
    "logit_train_df = df[['churn']].rename(columns={'churn': 'actual'})\n",
    "\n",
    "# Predict whether a customer will churn using the X_train_inde data; add column to my logit_train_df\n",
    "logit_train_df['yhat'] = logit.predict(X_train_inde)\n",
    "\n",
    "# Estimate the probability of a customer churning using the X_train_inde data; add col to logit_train_df\n",
    "logit_train_df['probs'] = logit.predict_proba(X_train_inde)[:, 1]\n",
    "\n",
    "# Show the new eval df\n",
    "logit_train_df.sample(10)"
   ]
  },
  {
   "cell_type": "code",
   "execution_count": 85,
   "metadata": {},
   "outputs": [
    {
     "data": {
      "text/html": [
       "<div>\n",
       "<style scoped>\n",
       "    .dataframe tbody tr th:only-of-type {\n",
       "        vertical-align: middle;\n",
       "    }\n",
       "\n",
       "    .dataframe tbody tr th {\n",
       "        vertical-align: top;\n",
       "    }\n",
       "\n",
       "    .dataframe thead th {\n",
       "        text-align: right;\n",
       "    }\n",
       "</style>\n",
       "<table border=\"1\" class=\"dataframe\">\n",
       "  <thead>\n",
       "    <tr style=\"text-align: right;\">\n",
       "      <th></th>\n",
       "      <th>actual_churn</th>\n",
       "      <th>yhat</th>\n",
       "      <th>probs</th>\n",
       "      <th>customer_id</th>\n",
       "    </tr>\n",
       "  </thead>\n",
       "  <tbody>\n",
       "    <tr>\n",
       "      <th>48</th>\n",
       "      <td>Yes</td>\n",
       "      <td>0</td>\n",
       "      <td>0.153569</td>\n",
       "      <td>0447-BEMNG</td>\n",
       "    </tr>\n",
       "    <tr>\n",
       "      <th>3829</th>\n",
       "      <td>Yes</td>\n",
       "      <td>0</td>\n",
       "      <td>0.150044</td>\n",
       "      <td>9063-ZGTUY</td>\n",
       "    </tr>\n",
       "    <tr>\n",
       "      <th>4006</th>\n",
       "      <td>No</td>\n",
       "      <td>0</td>\n",
       "      <td>0.183814</td>\n",
       "      <td>2364-UFROM</td>\n",
       "    </tr>\n",
       "    <tr>\n",
       "      <th>2339</th>\n",
       "      <td>No</td>\n",
       "      <td>0</td>\n",
       "      <td>0.420263</td>\n",
       "      <td>5146-CBVOE</td>\n",
       "    </tr>\n",
       "    <tr>\n",
       "      <th>6637</th>\n",
       "      <td>No</td>\n",
       "      <td>0</td>\n",
       "      <td>0.024467</td>\n",
       "      <td>3525-DVKFN</td>\n",
       "    </tr>\n",
       "    <tr>\n",
       "      <th>5052</th>\n",
       "      <td>No</td>\n",
       "      <td>0</td>\n",
       "      <td>0.062522</td>\n",
       "      <td>1952-DVVSW</td>\n",
       "    </tr>\n",
       "    <tr>\n",
       "      <th>6213</th>\n",
       "      <td>Yes</td>\n",
       "      <td>0</td>\n",
       "      <td>0.032082</td>\n",
       "      <td>5748-RNCJT</td>\n",
       "    </tr>\n",
       "    <tr>\n",
       "      <th>1976</th>\n",
       "      <td>No</td>\n",
       "      <td>0</td>\n",
       "      <td>0.434383</td>\n",
       "      <td>3481-JHUZH</td>\n",
       "    </tr>\n",
       "    <tr>\n",
       "      <th>6782</th>\n",
       "      <td>No</td>\n",
       "      <td>0</td>\n",
       "      <td>0.019209</td>\n",
       "      <td>5854-KSRBJ</td>\n",
       "    </tr>\n",
       "    <tr>\n",
       "      <th>6709</th>\n",
       "      <td>No</td>\n",
       "      <td>0</td>\n",
       "      <td>0.022105</td>\n",
       "      <td>4774-HHGGS</td>\n",
       "    </tr>\n",
       "  </tbody>\n",
       "</table>\n",
       "</div>"
      ],
      "text/plain": [
       "     actual_churn  yhat     probs customer_id\n",
       "48            Yes     0  0.153569  0447-BEMNG\n",
       "3829          Yes     0  0.150044  9063-ZGTUY\n",
       "4006           No     0  0.183814  2364-UFROM\n",
       "2339           No     0  0.420263  5146-CBVOE\n",
       "6637           No     0  0.024467  3525-DVKFN\n",
       "5052           No     0  0.062522  1952-DVVSW\n",
       "6213          Yes     0  0.032082  5748-RNCJT\n",
       "1976           No     0  0.434383  3481-JHUZH\n",
       "6782           No     0  0.019209  5854-KSRBJ\n",
       "6709           No     0  0.022105  4774-HHGGS"
      ]
     },
     "execution_count": 85,
     "metadata": {},
     "output_type": "execute_result"
    }
   ],
   "source": [
    "# Create eval_df and rename the train survived column actual.\n",
    "logit_eval_df = df[['churn']].rename(columns={'churn': 'actual_churn'})\n",
    "\n",
    "# Predict whether a customer will churn using the X_train_inde data; add column to my logit_train_df\n",
    "logit_eval_df['yhat'] = logit_val.predict(X_train_inde)\n",
    "\n",
    "# Estimate the probability of a customer churning using the X_train_inde data; add col to logit_train_df\n",
    "logit_eval_df['probs'] = logit_val.predict_proba(X_train_inde)[:, 1]\n",
    "\n",
    "# Add an identifier, the customer_id to the prediction dataframe:\n",
    "logit_eval_df['customer_id'] = telco.customer_id\n",
    "\n",
    "# Show the new eval df\n",
    "logit_eval_df.sample(10)"
   ]
  },
  {
   "cell_type": "code",
   "execution_count": 97,
   "metadata": {},
   "outputs": [
    {
     "data": {
      "text/plain": [
       "(7043, 4)"
      ]
     },
     "execution_count": 97,
     "metadata": {},
     "output_type": "execute_result"
    }
   ],
   "source": [
    "logit_eval_df.shape"
   ]
  },
  {
   "cell_type": "code",
   "execution_count": 98,
   "metadata": {},
   "outputs": [
    {
     "name": "stdout",
     "output_type": "stream",
     "text": [
      "(7043, 33)\n",
      "(7043, 4)\n"
     ]
    }
   ],
   "source": [
    "print(df.shape)\n",
    "print(logit_eval_df.shape)"
   ]
  },
  {
   "cell_type": "code",
   "execution_count": 88,
   "metadata": {},
   "outputs": [],
   "source": [
    "logit_eval_df.to_csv('telco_predicted_churn.csv')"
   ]
  },
  {
   "cell_type": "markdown",
   "metadata": {},
   "source": [
    "# Conclusions"
   ]
  },
  {
   "cell_type": "markdown",
   "metadata": {},
   "source": [
    "- I have run a logistic regression model on the train, validate and test datasets, all of which have returned a better accuracy than my baseline model.\n",
    "- My baseline model was 73% accurate at predicting churn, while my best model (logistic regression model) had an accuracy of 80% of predicting customer churn.\n",
    "- **Recommendation:** The models showed that customers with an automatic payment plan tended to have a higher retention. Create discounts or promotions that would encourage customers to switch to an automatic payment plan. Would also recommend that any models we use as a prediction of churn should incorporate automatic vs manual payment plans into the training of the model.\n",
    "\n",
    "#### Next Steps\n",
    "- If I have more time I would like to go back and run more models using different algorithms, such as KNN and Decision Tree.\n",
    "- Also if there were more time I would've gone back and done more exploration related to monthly costs by internet service, total costs by tenure cohort, and also use different hyperparameters to see if that increased the overall accuracy of my models.\n",
    "- **One big takeaway** is that over the course of using my models on the train, validate, and test stages, the accuracy of the model remained withint 2-3 points of the training results. What this means to me is that I hopefully have a lower likelihood of having over-fitted my sample-data. \n",
    "- I anticipate the model will have similar accuracy on out of sample data once it become available."
   ]
  },
  {
   "cell_type": "code",
   "execution_count": null,
   "metadata": {},
   "outputs": [],
   "source": []
  },
  {
   "cell_type": "code",
   "execution_count": null,
   "metadata": {},
   "outputs": [],
   "source": []
  }
 ],
 "metadata": {
  "kernelspec": {
   "display_name": "Python 3",
   "language": "python",
   "name": "python3"
  },
  "language_info": {
   "codemirror_mode": {
    "name": "ipython",
    "version": 3
   },
   "file_extension": ".py",
   "mimetype": "text/x-python",
   "name": "python",
   "nbconvert_exporter": "python",
   "pygments_lexer": "ipython3",
   "version": "3.7.6"
  }
 },
 "nbformat": 4,
 "nbformat_minor": 4
}
